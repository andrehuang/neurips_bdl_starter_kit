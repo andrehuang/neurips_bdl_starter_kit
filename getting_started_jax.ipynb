{
  "nbformat": 4,
  "nbformat_minor": 0,
  "metadata": {
    "colab": {
      "name": "getting_started_jax.ipynb",
      "provenance": [],
      "collapsed_sections": []
    },
    "kernelspec": {
      "name": "python3",
      "display_name": "Python 3"
    },
    "language_info": {
      "name": "python"
    },
    "accelerator": "GPU"
  },
  "cells": [
    {
      "cell_type": "markdown",
      "metadata": {
        "id": "BYzpwF2FLeCH"
      },
      "source": [
        "# Approximate Inference in Bayesian Deep Learning: Getting Started in JAX\n",
        "\n",
        "In this colab we will walk you through downloading the data, running your method and generating a submission for our NeurIPS 2021 competition. In this colab we use the JAX framework. For PyTorch see ...\n",
        "\n",
        "Useful references:\n",
        "- [Competition website](https://izmailovpavel.github.io/neurips_bdl_competition/)\n",
        "- [Efficient implementation of several baselines in JAX](https://github.com/google-research/google-research/tree/master/bnn_hmc)\n",
        "- [Submission platform](https://competitions.codalab.org/competitions/33512?secret_key=10f23c1f-9c86-4a7a-8406-d85b0a0713f2)\n",
        "\n",
        "\n",
        "## Setting up colab\n",
        "\n",
        "Colab provides an easy-to-use environment for working on the competition with access to free computational resources. However, you should also be able to run this notebook locally after installing the required dependencies. If you use colab, please select a `GPU` runtime type.\n",
        "\n",
        "## Preparing the data\n"
      ]
    },
    {
      "cell_type": "code",
      "metadata": {
        "colab": {
          "base_uri": "https://localhost:8080/"
        },
        "id": "EaSX9Gq9jujD",
        "outputId": "ed761e6f-e8bd-4a68-b502-0996f60f778f"
      },
      "source": [
        "# uncomment order to re-install the starter kit\n",
        "# !rm -rf neurips_bdl_starter_kit\n",
        "\n",
        "!git clone https://github.com/izmailovpavel/neurips_bdl_starter_kit\n",
        "! pip install git+https://github.com/deepmind/dm-haiku\n",
        "! pip install optax\n",
        "\n",
        "import sys\n",
        "import math\n",
        "import jax\n",
        "import tensorflow as tf\n",
        "import optax\n",
        "import matplotlib\n",
        "import numpy as onp\n",
        "from jax import numpy as jnp\n",
        "from matplotlib import pyplot as plt\n",
        "\n",
        "sys.path.append(\"neurips_bdl_starter_kit\")\n",
        "import jax_models as models"
      ],
      "execution_count": null,
      "outputs": [
        {
          "output_type": "stream",
          "text": [
            "Cloning into 'neurips_bdl_starter_kit'...\n",
            "remote: Enumerating objects: 17, done.\u001b[K\n",
            "remote: Counting objects: 100% (17/17), done.\u001b[K\n",
            "remote: Compressing objects: 100% (10/10), done.\u001b[K\n",
            "remote: Total 17 (delta 4), reused 17 (delta 4), pack-reused 0\u001b[K\n",
            "Unpacking objects: 100% (17/17), done.\n",
            "Collecting git+https://github.com/deepmind/dm-haiku\n",
            "  Cloning https://github.com/deepmind/dm-haiku to /tmp/pip-req-build-doju5epq\n",
            "  Running command git clone -q https://github.com/deepmind/dm-haiku /tmp/pip-req-build-doju5epq\n",
            "Requirement already satisfied: absl-py>=0.7.1 in /usr/local/lib/python3.7/dist-packages (from dm-haiku==0.0.5.dev0) (0.12.0)\n",
            "Collecting jmp>=0.0.2\n",
            "  Downloading https://files.pythonhosted.org/packages/ff/5c/1482f4a4a502e080af2ca54d7f80a60b5d4735f464c151666d583b78c226/jmp-0.0.2-py3-none-any.whl\n",
            "Requirement already satisfied: numpy>=1.18.0 in /usr/local/lib/python3.7/dist-packages (from dm-haiku==0.0.5.dev0) (1.19.5)\n",
            "Requirement already satisfied: tabulate>=0.8.9 in /usr/local/lib/python3.7/dist-packages (from dm-haiku==0.0.5.dev0) (0.8.9)\n",
            "Requirement already satisfied: typing_extensions in /usr/local/lib/python3.7/dist-packages (from dm-haiku==0.0.5.dev0) (3.7.4.3)\n",
            "Requirement already satisfied: six in /usr/local/lib/python3.7/dist-packages (from absl-py>=0.7.1->dm-haiku==0.0.5.dev0) (1.15.0)\n",
            "Building wheels for collected packages: dm-haiku\n",
            "  Building wheel for dm-haiku (setup.py) ... \u001b[?25l\u001b[?25hdone\n",
            "  Created wheel for dm-haiku: filename=dm_haiku-0.0.5.dev0-cp37-none-any.whl size=530560 sha256=a5c7af32edd9766d8b2ae449c01e53cb0c4ea572abfc71414a56c01247ad17bd\n",
            "  Stored in directory: /tmp/pip-ephem-wheel-cache-9hg3_51l/wheels/97/0f/e9/17f34e377f8d4060fa88a7e82bee5d8afbf7972384768a5499\n",
            "Successfully built dm-haiku\n",
            "Installing collected packages: jmp, dm-haiku\n",
            "Successfully installed dm-haiku-0.0.5.dev0 jmp-0.0.2\n",
            "Collecting optax\n",
            "\u001b[?25l  Downloading https://files.pythonhosted.org/packages/07/48/4f65dbb5ec096917ec039ba2c7eccf97ee05a4157e0e965a45ed3b7a13f9/optax-0.0.9-py3-none-any.whl (118kB)\n",
            "\u001b[K     |████████████████████████████████| 122kB 6.5MB/s \n",
            "\u001b[?25hRequirement already satisfied: numpy>=1.18.0 in /usr/local/lib/python3.7/dist-packages (from optax) (1.19.5)\n",
            "Collecting chex>=0.0.4\n",
            "\u001b[?25l  Downloading https://files.pythonhosted.org/packages/0f/95/ccd2da57155c019efb3a60e3e5ecb9da431e19ebb16cce1e6981d615d75e/chex-0.0.8-py3-none-any.whl (57kB)\n",
            "\u001b[K     |████████████████████████████████| 61kB 5.5MB/s \n",
            "\u001b[?25hRequirement already satisfied: jax>=0.1.55 in /usr/local/lib/python3.7/dist-packages (from optax) (0.2.13)\n",
            "Requirement already satisfied: absl-py>=0.7.1 in /usr/local/lib/python3.7/dist-packages (from optax) (0.12.0)\n",
            "Requirement already satisfied: jaxlib>=0.1.37 in /usr/local/lib/python3.7/dist-packages (from optax) (0.1.66+cuda110)\n",
            "Requirement already satisfied: dm-tree>=0.1.5 in /usr/local/lib/python3.7/dist-packages (from chex>=0.0.4->optax) (0.1.6)\n",
            "Requirement already satisfied: toolz>=0.9.0 in /usr/local/lib/python3.7/dist-packages (from chex>=0.0.4->optax) (0.11.1)\n",
            "Requirement already satisfied: opt-einsum in /usr/local/lib/python3.7/dist-packages (from jax>=0.1.55->optax) (3.3.0)\n",
            "Requirement already satisfied: six in /usr/local/lib/python3.7/dist-packages (from absl-py>=0.7.1->optax) (1.15.0)\n",
            "Requirement already satisfied: scipy in /usr/local/lib/python3.7/dist-packages (from jaxlib>=0.1.37->optax) (1.4.1)\n",
            "Requirement already satisfied: flatbuffers in /usr/local/lib/python3.7/dist-packages (from jaxlib>=0.1.37->optax) (1.12)\n",
            "Installing collected packages: chex, optax\n",
            "Successfully installed chex-0.0.8 optax-0.0.9\n"
          ],
          "name": "stdout"
        }
      ]
    },
    {
      "cell_type": "markdown",
      "metadata": {
        "id": "mrcvRuuJRGhZ"
      },
      "source": [
        "We provide the datasets used in this competition in a public Google Cloud Storage bucket in the `.csv` format. Here we download the data:\n",
        "\n",
        "You can also download the data to your computer by clicking these links:\n",
        "- [CIFAR-10 train features](https://storage.googleapis.com/neurips2021_bdl_competition/cifar10_train_x.csv)\n",
        "- [CIFAR-10 train labels](https://storage.googleapis.com/neurips2021_bdl_competition/cifar10_train_y.csv)\n",
        "- [CIFAR-10 test features](https://storage.googleapis.com/neurips2021_bdl_competition/cifar10_test_x.csv)\n",
        "- [CIFAR-10 test labels](https://storage.googleapis.com/neurips2021_bdl_competition/cifar10_test_y.csv)"
      ]
    },
    {
      "cell_type": "code",
      "metadata": {
        "colab": {
          "base_uri": "https://localhost:8080/"
        },
        "id": "da-9ecSDnKO9",
        "outputId": "34049cb2-99ba-4b61-a485-a744e1faf73d"
      },
      "source": [
        "!gsutil -m cp -r gs://neurips2021_bdl_competition/cifar10_*.csv ."
      ],
      "execution_count": null,
      "outputs": [
        {
          "output_type": "stream",
          "text": [
            "Copying gs://neurips2021_bdl_competition/cifar10_test_x.csv...\n",
            "/ [0/4 files][    0.0 B/  4.4 GiB]   0% Done                                    \rCopying gs://neurips2021_bdl_competition/cifar10_test_y.csv...\n",
            "/ [0/4 files][    0.0 B/  4.4 GiB]   0% Done                                    \rCopying gs://neurips2021_bdl_competition/cifar10_train_y.csv...\n",
            "Copying gs://neurips2021_bdl_competition/cifar10_train_x.csv...\n",
            "\\ [4/4 files][  4.4 GiB/  4.4 GiB] 100% Done  74.7 MiB/s ETA 00:00:00           \n",
            "Operation completed over 4 objects/4.4 GiB.                                      \n"
          ],
          "name": "stdout"
        }
      ]
    },
    {
      "cell_type": "markdown",
      "metadata": {
        "id": "zDsZHMQzSGpZ"
      },
      "source": [
        "We can now read the data and convert it into numpy arrays. This cell may take several minutes to run."
      ]
    },
    {
      "cell_type": "code",
      "metadata": {
        "colab": {
          "base_uri": "https://localhost:8080/",
          "height": 303
        },
        "id": "4o8NLOGgnVSV",
        "outputId": "3c644911-0ffa-493e-eca9-22b812fe3d44"
      },
      "source": [
        "x_train = onp.loadtxt(\"cifar10_train_x.csv\")\n",
        "y_train = onp.loadtxt(\"cifar10_train_y.csv\")\n",
        "x_test = onp.loadtxt(\"cifar10_test_x.csv\")\n",
        "y_test = onp.loadtxt(\"cifar10_test_y.csv\")\n",
        "\n",
        "x_train = x_train.reshape((len(x_train), 32, 32, 3))\n",
        "x_test = x_test.reshape((len(x_test), 32, 32, 3))\n",
        "\n",
        "plt.imshow(x_train[0])\n",
        "plt.colorbar()"
      ],
      "execution_count": null,
      "outputs": [
        {
          "output_type": "stream",
          "text": [
            "Clipping input data to the valid range for imshow with RGB data ([0..1] for floats or [0..255] for integers).\n"
          ],
          "name": "stderr"
        },
        {
          "output_type": "execute_result",
          "data": {
            "text/plain": [
              "<matplotlib.colorbar.Colorbar at 0x7ff492477150>"
            ]
          },
          "metadata": {
            "tags": []
          },
          "execution_count": 4
        },
        {
          "output_type": "display_data",
          "data": {
            "image/png": "[encoded data removed]",
            "text/plain": [
              "<Figure size 432x288 with 2 Axes>"
            ]
          },
          "metadata": {
            "tags": [],
            "needs_background": "light"
          }
        }
      ]
    },
    {
      "cell_type": "markdown",
      "metadata": {
        "id": "z8JIisIsSeOO"
      },
      "source": [
        "Finally, we define a `tf.data.Dataset` for the train and test datasets."
      ]
    },
    {
      "cell_type": "code",
      "metadata": {
        "id": "Iev-FreJoGBt"
      },
      "source": [
        "train_dataset = tf.data.Dataset.from_tensor_slices((x_train, y_train))\n",
        "test_dataset = tf.data.Dataset.from_tensor_slices((x_test, y_test))"
      ],
      "execution_count": null,
      "outputs": []
    },
    {
      "cell_type": "markdown",
      "metadata": {
        "id": "ui5dKavnSoQ9"
      },
      "source": [
        "## Model and losses\n",
        "\n",
        "We provide the code for all the models used in the competition in the `neurips_bdl_starter_kit/jax_models.py` module. Here, we will load a ResNet-20 model with filter response normalization (FRN) and swish avtivations. The models are implemented in [`haiku`](https://github.com/deepmind/dm-haiku).\n",
        "\n",
        "We also define the cross-entropy likelihood (`log_likelihood_fn`) and Gaussian prior (`log_prior_fn`), and the corresponding posterior log-density (`log_posterior_fn`). The `log_posterior_wgrad_fn` computes the posterior log-density and its gradients with respect to the parameters of the model.\n",
        "\n",
        "The `evaluate_fn` function computes the accuracy and predictions of the model on a given dataset; we will use this function to generate the predictions for our submission."
      ]
    },
    {
      "cell_type": "code",
      "metadata": {
        "id": "KZAbsDh-tNji"
      },
      "source": [
        "net_apply, net_init = models.get_model(\"resnet20_frn_swish\", data_info={\"num_classes\": 10})\n",
        "prior_variance = 5.\n",
        "\n",
        "def log_likelihood_fn(params, batch, is_training=True):\n",
        "    \"\"\"Computes the log-likelihood.\"\"\"\n",
        "    x, y = batch\n",
        "    logits = net_apply(params, None, x, is_training)\n",
        "    num_classes = logits.shape[-1]\n",
        "    labels = jax.nn.one_hot(y, num_classes)\n",
        "    softmax_xent = jnp.sum(labels * jax.nn.log_softmax(logits))\n",
        "\n",
        "    return softmax_xent\n",
        "\n",
        "\n",
        "def log_prior_fn(params):\n",
        "    \"\"\"Computes the Gaussian prior log-density.\"\"\"\n",
        "    n_params = sum([p.size for p in jax.tree_leaves(params)])\n",
        "    exp_term = sum(jax.tree_leaves(jax.tree_map(\n",
        "        lambda p: (-p**2 / (2 * prior_variance)).sum(), params)))\n",
        "    norm_constant = -0.5 * n_params * jnp.log((2 * math.pi * prior_variance))\n",
        "    return exp_term + norm_constant\n",
        "\n",
        "\n",
        "def log_posterior_fn(params, batch, is_training=True):\n",
        "    log_lik = log_likelihood_fn(params, batch, is_training=True)\n",
        "    log_prior = log_prior_fn(params)\n",
        "    return log_lik + log_prior\n",
        "    # return log_lik\n",
        "\n",
        "\n",
        "@jax.jit\n",
        "def get_accuracy_fn(batch, params):\n",
        "    x, y = batch\n",
        "    logits = net_apply(params, None, x, False)\n",
        "    probs = jax.nn.softmax(logits, axis=1)\n",
        "    preds = jnp.argmax(logits, axis=1)\n",
        "    accuracy = (preds == y).mean()\n",
        "    return accuracy, probs\n",
        "\n",
        "\n",
        "def evaluate_fn(dataset, params):\n",
        "    sum_accuracy = 0\n",
        "    all_probs = []\n",
        "    for x, y in dataset:\n",
        "        x, y = jnp.asarray(x), jnp.asarray(y)\n",
        "        batch_accuracy, batch_probs = get_accuracy_fn((x, y), params)\n",
        "        sum_accuracy += batch_accuracy.item()\n",
        "        all_probs.append(onp.asarray(batch_probs))\n",
        "    all_probs = jnp.concatenate(all_probs, axis=0)\n",
        "    return sum_accuracy / len(dataset), all_probs\n",
        "\n",
        "\n",
        "log_posterior_wgrad_fn = jax.jit(jax.value_and_grad(log_posterior_fn, argnums=0))"
      ],
      "execution_count": null,
      "outputs": []
    },
    {
      "cell_type": "markdown",
      "metadata": {
        "id": "WmNpx-CMTyyM"
      },
      "source": [
        "Now we can initialize the parameters of the model. "
      ]
    },
    {
      "cell_type": "code",
      "metadata": {
        "id": "4-AtnpOethf_"
      },
      "source": [
        "seed = jax.random.PRNGKey(0)\n",
        "key, net_init_key = jax.random.split(seed, 2)\n",
        "init_data, _ = next(iter(train_dataset))\n",
        "init_data = jnp.asarray(init_data)\n",
        "params = net_init(net_init_key, init_data, True)"
      ],
      "execution_count": null,
      "outputs": []
    },
    {
      "cell_type": "markdown",
      "metadata": {
        "id": "KEZnIWNmUEwE"
      },
      "source": [
        "## Optimizer\n",
        "\n",
        "In this colab we will train an approximate maximum-a-posteriori (MAP) solution as our submission for simplicity. You can find efficient implementations of more advanced baselines [here](https://github.com/google-research/google-research/tree/master/bnn_hmc).\n",
        "\n",
        "We will use SGD with momentum. You can adjust the hyper-parameters or switch to a different optimizer by changing the code below.\n",
        "\n",
        "`update_fn` implements a single optimization step on a mini-batch of data."
      ]
    },
    {
      "cell_type": "code",
      "metadata": {
        "id": "fLGw_AVJtjy3"
      },
      "source": [
        "batch_size = 100\n",
        "test_batch_size = 1000\n",
        "num_epochs = 5\n",
        "shuffle_buffer_size = 1000\n",
        "momentum_decay = 0.9\n",
        "init_lr = 1.e-3\n",
        "\n",
        "train_dataset_batched = train_dataset.shuffle(shuffle_buffer_size, reshuffle_each_iteration=True)\n",
        "train_dataset_batched = train_dataset_batched.batch(batch_size)\n",
        "test_dataset_batched = test_dataset.batch(test_batch_size)\n",
        "\n",
        "epoch_steps = len(train_dataset_batched)\n",
        "total_steps = epoch_steps * num_epochs\n",
        "\n",
        "\n",
        "\n",
        "def lr_schedule(step):\n",
        "    t = step / total_steps\n",
        "    return 0.5 * init_lr * (1 + jnp.cos(t * onp.pi))\n",
        "\n",
        "optimizer = optax.chain(\n",
        "    optax.trace(decay=momentum_decay, nesterov=False),\n",
        "    optax.scale_by_schedule(lr_schedule))\n",
        "opt_state = optimizer.init(params)\n",
        "\n",
        "\n",
        "@jax.jit\n",
        "def update_fn(batch, params, opt_state):\n",
        "  x, y = batch\n",
        "  loss, grad = log_posterior_wgrad_fn(params, (x, y))\n",
        "  updates, new_opt_state = optimizer.update(grad, opt_state)\n",
        "  new_params = optax.apply_updates(params, updates)\n",
        "  return new_params, new_opt_state, loss"
      ],
      "execution_count": null,
      "outputs": []
    },
    {
      "cell_type": "markdown",
      "metadata": {
        "id": "byrbWJFvVACJ"
      },
      "source": [
        "## Training\n",
        "\n",
        "We will run training for 5 epochs, which can take several minutes to complete. Note that in order to achieve good results you need to run the method substantially longer and tune the hyper-parameters."
      ]
    },
    {
      "cell_type": "code",
      "metadata": {
        "colab": {
          "base_uri": "https://localhost:8080/"
        },
        "id": "zzHlKEK1uKBS",
        "outputId": "6dbe4180-fc44-4620-8019-b1f3f20fde80"
      },
      "source": [
        "for epoch in range(num_epochs):\n",
        "    sum_loss = 0.\n",
        "    for x, y in train_dataset_batched:\n",
        "        x, y = jnp.asarray(x), jnp.asarray(y)\n",
        "        params, opt_state, loss = update_fn((x, y), params, opt_state)\n",
        "        sum_loss += loss\n",
        "    \n",
        "    test_acc, all_test_probs = evaluate_fn(test_dataset_batched, params)\n",
        "    print(\"Epoch {}\".format(epoch))\n",
        "    print(\"\\tAverage loss: {}\".format(sum_loss / epoch_steps))\n",
        "    print(\"\\tTest accuracy: {}\".format(test_acc))\n",
        "\n",
        "all_test_probs = onp.asarray(all_test_probs)"
      ],
      "execution_count": null,
      "outputs": [
        {
          "output_type": "stream",
          "text": [
            "Epoch 0\n",
            "\tAverage loss: -472673.96875\n",
            "\tTest accuracy: 0.2943000137805939\n",
            "Epoch 1\n",
            "\tAverage loss: -472567.4375\n",
            "\tTest accuracy: 0.3136000126600266\n",
            "Epoch 2\n",
            "\tAverage loss: -472545.71875\n",
            "\tTest accuracy: 0.41730002462863924\n",
            "Epoch 3\n",
            "\tAverage loss: -472527.21875\n",
            "\tTest accuracy: 0.49570002853870393\n",
            "Epoch 4\n",
            "\tAverage loss: -472506.9375\n",
            "\tTest accuracy: 0.5400000214576721\n"
          ],
          "name": "stdout"
        }
      ]
    },
    {
      "cell_type": "markdown",
      "metadata": {
        "id": "Y7nYa4w3VmnO"
      },
      "source": [
        "## Preparing the submission\n",
        "\n",
        "Once you run the code above, `all_test_probs` should contain an array of size `10000 x 10` where the rows correspond to test datapoints and columns correspond to classes."
      ]
    },
    {
      "cell_type": "code",
      "metadata": {
        "colab": {
          "base_uri": "https://localhost:8080/"
        },
        "id": "atqsSbjBInpg",
        "outputId": "e410387d-117b-4010-b911-b6e788e8cc57"
      },
      "source": [
        "all_test_probs.shape"
      ],
      "execution_count": null,
      "outputs": [
        {
          "output_type": "execute_result",
          "data": {
            "text/plain": [
              "(10000, 10)"
            ]
          },
          "metadata": {
            "tags": []
          },
          "execution_count": 70
        }
      ]
    },
    {
      "cell_type": "markdown",
      "metadata": {
        "id": "FB2LhtfUW1ar"
      },
      "source": [
        "Now, we need to save the array as `cifar10_probs.csv` and create a zip archive with this file."
      ]
    },
    {
      "cell_type": "code",
      "metadata": {
        "colab": {
          "base_uri": "https://localhost:8080/"
        },
        "id": "h0CtqrJCI2-F",
        "outputId": "1401bfd0-ceaf-499d-cc0b-d6e17f3d6078"
      },
      "source": [
        "onp.savetxt(\"cifar10_probs.csv\", all_test_probs, delimiter=',')\n",
        "\n",
        "!zip submission.zip cifar10_probs.csv"
      ],
      "execution_count": null,
      "outputs": [
        {
          "output_type": "stream",
          "text": [
            "updating: cifar10_probs.csv (deflated 56%)\n"
          ],
          "name": "stdout"
        }
      ]
    },
    {
      "cell_type": "markdown",
      "metadata": {
        "id": "f-3deTsUNcqI"
      },
      "source": [
        "Finally, you can download the submission by running the code below. If the download doesn't start, check that your browser did not block it automatically."
      ]
    },
    {
      "cell_type": "code",
      "metadata": {
        "colab": {
          "base_uri": "https://localhost:8080/",
          "height": 17
        },
        "id": "ieCUqCPjJP0k",
        "outputId": "f24a045e-963b-43f7-aa77-f228506d3fb9"
      },
      "source": [
        "from google.colab import files\n",
        "files.download('submission.zip') "
      ],
      "execution_count": null,
      "outputs": [
        {
          "output_type": "display_data",
          "data": {
            "application/javascript": [
              "\n",
              "    async function download(id, filename, size) {\n",
              "      if (!google.colab.kernel.accessAllowed) {\n",
              "        return;\n",
              "      }\n",
              "      const div = document.createElement('div');\n",
              "      const label = document.createElement('label');\n",
              "      label.textContent = `Downloading \"${filename}\": `;\n",
              "      div.appendChild(label);\n",
              "      const progress = document.createElement('progress');\n",
              "      progress.max = size;\n",
              "      div.appendChild(progress);\n",
              "      document.body.appendChild(div);\n",
              "\n",
              "      const buffers = [];\n",
              "      let downloaded = 0;\n",
              "\n",
              "      const channel = await google.colab.kernel.comms.open(id);\n",
              "      // Send a message to notify the kernel that we're ready.\n",
              "      channel.send({})\n",
              "\n",
              "      for await (const message of channel.messages) {\n",
              "        // Send a message to notify the kernel that we're ready.\n",
              "        channel.send({})\n",
              "        if (message.buffers) {\n",
              "          for (const buffer of message.buffers) {\n",
              "            buffers.push(buffer);\n",
              "            downloaded += buffer.byteLength;\n",
              "            progress.value = downloaded;\n",
              "          }\n",
              "        }\n",
              "      }\n",
              "      const blob = new Blob(buffers, {type: 'application/binary'});\n",
              "      const a = document.createElement('a');\n",
              "      a.href = window.URL.createObjectURL(blob);\n",
              "      a.download = filename;\n",
              "      div.appendChild(a);\n",
              "      a.click();\n",
              "      div.remove();\n",
              "    }\n",
              "  "
            ],
            "text/plain": [
              "<IPython.core.display.Javascript object>"
            ]
          },
          "metadata": {
            "tags": []
          }
        },
        {
          "output_type": "display_data",
          "data": {
            "application/javascript": [
              "download(\"download_73c98a4d-eef8-4151-9c24-c6034694b41a\", \"submission.zip\", 1093109)"
            ],
            "text/plain": [
              "<IPython.core.display.Javascript object>"
            ]
          },
          "metadata": {
            "tags": []
          }
        }
      ]
    },
    {
      "cell_type": "markdown",
      "metadata": {
        "id": "izLlUVM4XIWv"
      },
      "source": [
        "Now you can head over to the [submission system](https://competitions.codalab.org/competitions/33512?secret_key=10f23c1f-9c86-4a7a-8406-d85b0a0713f2#participate) and upload your submission. Good luck :)"
      ]
    }
  ]
}