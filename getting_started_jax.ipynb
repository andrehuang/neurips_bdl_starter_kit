{
 "cells": [
  {
   "cell_type": "code",
   "execution_count": 1,
   "metadata": {},
   "outputs": [],
   "source": [
    "import jax\n",
    "import math\n",
    "\n",
    "import numpy as onp\n",
    "from jax import numpy as jnp\n",
    "from matplotlib import pyplot as plt\n",
    "import tensorflow as tf\n",
    "# from tensorflow_probability.substrates import jax as tfp\n",
    "# tfd = tfp.distributions\n",
    "\n",
    "%matplotlib inline"
   ]
  },
  {
   "cell_type": "markdown",
   "metadata": {},
   "source": [
    "## MNIST"
   ]
  },
  {
   "cell_type": "code",
   "execution_count": 3,
   "metadata": {},
   "outputs": [],
   "source": [
    "x_train = onp.loadtxt(\"mnist_train_x.csv\")\n",
    "y_train = onp.loadtxt(\"mnist_train_y.csv\")\n",
    "x_test = onp.loadtxt(\"mnist_test_x.csv\")\n",
    "y_test = onp.loadtxt(\"mnist_test_y.csv\")"
   ]
  },
  {
   "cell_type": "code",
   "execution_count": 4,
   "metadata": {},
   "outputs": [
    {
     "name": "stdout",
     "output_type": "stream",
     "text": [
      "Data shape: (60000, 784)\n"
     ]
    }
   ],
   "source": [
    "n_data, n_features = x_train.shape\n",
    "print(\"Data shape: ({}, {})\".format(n_data, n_features))"
   ]
  },
  {
   "cell_type": "code",
   "execution_count": 5,
   "metadata": {},
   "outputs": [],
   "source": [
    "# x_train = x_train.reshape((n_data, 28, 28, 1))"
   ]
  },
  {
   "cell_type": "code",
   "execution_count": 6,
   "metadata": {},
   "outputs": [
    {
     "data": {
      "text/plain": [
       "<matplotlib.colorbar.Colorbar at 0x7f6b2d7982b0>"
      ]
     },
     "execution_count": 6,
     "metadata": {},
     "output_type": "execute_result"
    },
    {
     "data": {
      "image/png": "[encoded data removed]",
      "text/plain": [
       "<Figure size 432x288 with 2 Axes>"
      ]
     },
     "metadata": {
      "needs_background": "light"
     },
     "output_type": "display_data"
    }
   ],
   "source": [
    "plt.imshow(x_train[0].reshape(28, 28))\n",
    "plt.colorbar()"
   ]
  },
  {
   "cell_type": "code",
   "execution_count": 7,
   "metadata": {},
   "outputs": [],
   "source": [
    "train_dataset = tf.data.Dataset.from_tensor_slices((x_train, y_train))\n",
    "test_dataset = tf.data.Dataset.from_tensor_slices((x_test, y_test))"
   ]
  },
  {
   "cell_type": "markdown",
   "metadata": {},
   "source": [
    "## Model and Losses"
   ]
  },
  {
   "cell_type": "code",
   "execution_count": 8,
   "metadata": {},
   "outputs": [],
   "source": [
    "import jax_models as models"
   ]
  },
  {
   "cell_type": "code",
   "execution_count": 50,
   "metadata": {},
   "outputs": [],
   "source": [
    "net_apply, net_init = models.get_model(\"mlp_classification\", data_info={\"num_classes\": 10})\n",
    "prior_variance = 1.\n",
    "\n",
    "\n",
    "def log_likelihood_fn(params, net_state, batch, is_training=True):\n",
    "    \"\"\"Computes the log-likelihood.\"\"\"\n",
    "    x, y = batch\n",
    "    logits, net_state = net_apply(params, net_state, None, x, is_training)\n",
    "    num_classes = logits.shape[-1]\n",
    "    labels = jax.nn.one_hot(y, num_classes)\n",
    "    softmax_xent = jnp.sum(labels * jax.nn.log_softmax(logits))\n",
    "\n",
    "    return softmax_xent, net_state\n",
    "\n",
    "\n",
    "def log_prior_fn(params):\n",
    "    \"\"\"Computes the Gaussian prior log-density.\"\"\"\n",
    "    n_params = sum([p.size for p in jax.tree_leaves(params)])\n",
    "    exp_term = sum(jax.tree_leaves(jax.tree_map(\n",
    "        lambda p: (-p**2 / (2 * prior_variance)).sum(), params)))\n",
    "    norm_constant = -0.5 * n_params * jnp.log((2 * math.pi * prior_variance))\n",
    "    return exp_term + norm_constant\n",
    "\n",
    "\n",
    "def log_posterior_fn(params, net_state, batch, is_training=True):\n",
    "    log_lik, net_state = log_likelihood_fn(params, net_state, batch, is_training=True)\n",
    "    log_prior = log_prior_fn(params) * 0\n",
    "    return log_lik + log_prior, net_state\n",
    "\n",
    "\n",
    "@jax.jit\n",
    "def get_accuracy_fn(batch, params, net_state):\n",
    "    x, y = batch\n",
    "    logits, _ = net_apply(params, net_state, None, x, False)\n",
    "    preds = jnp.argmax(logits, axis=1)\n",
    "    accuracy = (preds == y).mean()\n",
    "    return accuracy\n",
    "\n",
    "\n",
    "def evaluate_fn(dataset, params, net_state):\n",
    "    sum_accuracy = 0\n",
    "    for x, y in dataset:\n",
    "        x, y = jnp.asarray(x), jnp.asarray(y)\n",
    "        batch_accuracy = get_accuracy_fn((x, y), params, net_state)\n",
    "        sum_accuracy += batch_accuracy.item()\n",
    "    return sum_accuracy / len(dataset)\n",
    "\n",
    "\n",
    "log_posterior_wgrad_fn = jax.jit(jax.value_and_grad(log_posterior_fn, argnums=0, has_aux=True))"
   ]
  },
  {
   "cell_type": "code",
   "execution_count": 63,
   "metadata": {},
   "outputs": [],
   "source": [
    "seed = jax.random.PRNGKey(0)\n",
    "key, net_init_key = jax.random.split(seed, 2)\n",
    "init_data, _ = next(iter(train_dataset))\n",
    "init_data = jnp.asarray(init_data)\n",
    "params, net_state = net_init(net_init_key, init_data, True)"
   ]
  },
  {
   "cell_type": "markdown",
   "metadata": {},
   "source": [
    "## Training"
   ]
  },
  {
   "cell_type": "code",
   "execution_count": 64,
   "metadata": {},
   "outputs": [],
   "source": [
    "import optax"
   ]
  },
  {
   "cell_type": "code",
   "execution_count": 65,
   "metadata": {},
   "outputs": [],
   "source": [
    "batch_size = 100\n",
    "test_batch_size = 1000\n",
    "num_epochs = 20\n",
    "shuffle_buffer_size = 1000\n",
    "momentum_decay = 0.9\n",
    "init_lr = 1.e-3\n",
    "\n",
    "train_dataset_batched = train_dataset.shuffle(shuffle_buffer_size, reshuffle_each_iteration=True)\n",
    "train_dataset_batched = train_dataset_batched.batch(batch_size)\n",
    "test_dataset_batched = test_dataset.batch(test_batch_size)\n",
    "\n",
    "epoch_steps = len(train_dataset_batched)\n",
    "total_steps = epoch_steps * num_epochs\n",
    "\n",
    "\n",
    "\n",
    "def lr_schedule(step):\n",
    "    t = step / total_steps\n",
    "    return 0.5 * init_lr * (1 + jnp.cos(t * onp.pi))\n",
    "\n",
    "optimizer = optax.chain(\n",
    "    optax.trace(decay=momentum_decay, nesterov=False),\n",
    "    optax.scale_by_schedule(lr_schedule))\n",
    "opt_state = optimizer.init(params)"
   ]
  },
  {
   "cell_type": "code",
   "execution_count": 66,
   "metadata": {},
   "outputs": [
    {
     "name": "stdout",
     "output_type": "stream",
     "text": [
      "Epoch 0\n",
      "\tAverage loss: -23.642967890898387\n",
      "\tTest accuracy: 0.9597000420093537\n",
      "Epoch 1\n",
      "\tAverage loss: -11.191662452121575\n",
      "\tTest accuracy: 0.9658000409603119\n",
      "Epoch 2\n",
      "\tAverage loss: -8.477553930381934\n",
      "\tTest accuracy: 0.9688000500202179\n",
      "Epoch 3\n",
      "\tAverage loss: -6.262596315816045\n",
      "\tTest accuracy: 0.9729000568389893\n",
      "Epoch 4\n",
      "\tAverage loss: -4.609476787646612\n",
      "\tTest accuracy: 0.9755000472068787\n",
      "Epoch 5\n",
      "\tAverage loss: -3.40231042525731\n",
      "\tTest accuracy: 0.9757000505924225\n",
      "Epoch 6\n",
      "\tAverage loss: -2.3744151169321657\n",
      "\tTest accuracy: 0.9807000458240509\n",
      "Epoch 7\n",
      "\tAverage loss: -1.2334694972642077\n",
      "\tTest accuracy: 0.9793000459671021\n",
      "Epoch 8\n",
      "\tAverage loss: -0.8837937871395843\n",
      "\tTest accuracy: 0.9818000376224518\n",
      "Epoch 9\n",
      "\tAverage loss: -0.4168170049598363\n",
      "\tTest accuracy: 0.9827000439167023\n",
      "Epoch 10\n",
      "\tAverage loss: -0.1246991726004247\n",
      "\tTest accuracy: 0.9837000429630279\n",
      "Epoch 11\n",
      "\tAverage loss: -0.060040685261119504\n",
      "\tTest accuracy: 0.9837000489234924\n",
      "Epoch 12\n",
      "\tAverage loss: -0.02978345209218484\n",
      "\tTest accuracy: 0.9841000378131867\n",
      "Epoch 13\n",
      "\tAverage loss: -0.02052895196329094\n",
      "\tTest accuracy: 0.9842000365257263\n",
      "Epoch 14\n",
      "\tAverage loss: -0.018012598099715737\n",
      "\tTest accuracy: 0.9841000378131867\n",
      "Epoch 15\n",
      "\tAverage loss: -0.016619685301150943\n",
      "\tTest accuracy: 0.9840000391006469\n",
      "Epoch 16\n",
      "\tAverage loss: -0.015798817866783187\n",
      "\tTest accuracy: 0.9840000391006469\n",
      "Epoch 17\n",
      "\tAverage loss: -0.015340126276551019\n",
      "\tTest accuracy: 0.9840000391006469\n",
      "Epoch 18\n",
      "\tAverage loss: -0.01510623472091538\n",
      "\tTest accuracy: 0.9840000391006469\n",
      "Epoch 19\n",
      "\tAverage loss: -0.015020640766318441\n",
      "\tTest accuracy: 0.9840000391006469\n"
     ]
    }
   ],
   "source": [
    "for epoch in range(num_epochs):\n",
    "    sum_loss = 0.\n",
    "    for x, y in train_dataset_batched:\n",
    "        x, y = jnp.asarray(x), jnp.asarray(y)\n",
    "        (loss, net_state), grad = log_posterior_wgrad_fn(params, net_state, (x, y))\n",
    "        updates, opt_state = optimizer.update(grad, opt_state)\n",
    "        params = optax.apply_updates(params, updates)\n",
    "        sum_loss += loss.item()\n",
    "    \n",
    "    test_acc = evaluate_fn(test_dataset_batched, params, net_state)\n",
    "    print(\"Epoch {}\".format(epoch))\n",
    "    print(\"\\tAverage loss: {}\".format(sum_loss / epoch_steps))\n",
    "    print(\"\\tTest accuracy: {}\".format(test_acc))"
   ]
  },
  {
   "cell_type": "code",
   "execution_count": 14,
   "metadata": {},
   "outputs": [],
   "source": [
    "(loss, net_state), grad = log_posterior_wgrad_fn(params, net_state, (x, y))"
   ]
  },
  {
   "cell_type": "code",
   "execution_count": 15,
   "metadata": {},
   "outputs": [],
   "source": [
    "updates, opt_state = optimizer.update(grad, opt_state)\n",
    "params = optax.apply_updates(params, updates)"
   ]
  },
  {
   "cell_type": "code",
   "execution_count": 17,
   "metadata": {},
   "outputs": [
    {
     "data": {
      "text/plain": [
       "-247932.765625"
      ]
     },
     "execution_count": 17,
     "metadata": {},
     "output_type": "execute_result"
    }
   ],
   "source": [
    "loss.item()"
   ]
  },
  {
   "cell_type": "code",
   "execution_count": null,
   "metadata": {},
   "outputs": [],
   "source": [
    "x.shape"
   ]
  },
  {
   "cell_type": "code",
   "execution_count": null,
   "metadata": {},
   "outputs": [],
   "source": [
    "for epoch in range(100)"
   ]
  }
 ],
 "metadata": {
  "kernelspec": {
   "display_name": "py38",
   "language": "python",
   "name": "py38"
  },
  "language_info": {
   "codemirror_mode": {
    "name": "ipython",
    "version": 3
   },
   "file_extension": ".py",
   "mimetype": "text/x-python",
   "name": "python",
   "nbconvert_exporter": "python",
   "pygments_lexer": "ipython3",
   "version": "3.8.5"
  }
 },
 "nbformat": 4,
 "nbformat_minor": 4
}
