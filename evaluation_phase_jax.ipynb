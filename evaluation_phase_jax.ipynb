{
  "nbformat": 4,
  "nbformat_minor": 0,
  "metadata": {
    "colab": {
      "name": "evaluation_phase_jax.ipynb",
      "provenance": [],
      "collapsed_sections": [],
      "authorship_tag": "ABX9TyP0brLL1pgvoYfzHJ8BJqRf",
      "include_colab_link": true
    },
    "kernelspec": {
      "name": "python3",
      "display_name": "Python 3"
    },
    "language_info": {
      "name": "python"
    },
    "accelerator": "TPU"
  },
  "cells": [
    {
      "cell_type": "markdown",
      "metadata": {
        "id": "view-in-github",
        "colab_type": "text"
      },
      "source": [
        "<a href=\"https://colab.research.google.com/github/izmailovpavel/neurips_bdl_starter_kit/blob/main/evaluation_phase_jax.ipynb\" target=\"_parent\"><img src=\"https://colab.research.google.com/assets/colab-badge.svg\" alt=\"Open In Colab\"/></a>"
      ]
    },
    {
      "cell_type": "markdown",
      "metadata": {
        "id": "Uu3QA28YeWTN"
      },
      "source": [
        "# Approximate Inference in Bayesian Deep Learning *Evaluation Phase*: Getting Started in JAX\n",
        "\n",
        "In this colab we will walk you through downloading the data, running your method and generating a submission for the evaluation phase of our NeurIPS 2021 competition. In this colab we use the JAX framework.\n",
        "\n",
        "See also our [getting started guide](https://colab.sandbox.google.com/github/izmailovpavel/neurips_bdl_starter_kit/blob/main/getting_started_jax.ipynb) for the development phase, for developing and testing your methods against our HMC samples."
      ]
    },
    {
      "cell_type": "markdown",
      "metadata": {
        "id": "BfR7rb5UfV9R"
      },
      "source": [
        "Useful references:\n",
        "- [Competition website](https://izmailovpavel.github.io/neurips_bdl_competition/)\n",
        "- [Efficient implementation of several baselines in JAX](https://github.com/google-research/google-research/tree/master/bnn_hmc)\n",
        "- [Submission platform]  TODO\n",
        "\n",
        "\n",
        "## Setting up colab\n",
        "\n",
        "Colab provides an easy-to-use environment for working on the competition with access to free computational resources. However, you should also be able to run this notebook locally after installing the required dependencies. If you use colab, please select a `GPU` runtime type.\n",
        "\n",
        "## Preparing the data"
      ]
    },
    {
      "cell_type": "code",
      "metadata": {
        "colab": {
          "base_uri": "https://localhost:8080/"
        },
        "id": "sdG1sNkAeI9d",
        "outputId": "16a1677a-2714-4016-a3a5-681df1a4d412"
      },
      "source": [
        "# uncomment order to re-install the starter kit\n",
        "# !rm -rf neurips_bdl_starter_kit\n",
        "\n",
        "!git clone https://github.com/izmailovpavel/neurips_bdl_starter_kit\n",
        "! pip install git+https://github.com/deepmind/dm-haiku\n",
        "! pip install optax\n",
        "\n",
        "import sys\n",
        "import math\n",
        "import jax\n",
        "import tensorflow as tf\n",
        "import optax\n",
        "import matplotlib\n",
        "import numpy as onp\n",
        "from jax import numpy as jnp\n",
        "from matplotlib import pyplot as plt\n",
        "import tqdm\n",
        "\n",
        "sys.path.append(\"neurips_bdl_starter_kit\")\n",
        "import jax_models as models"
      ],
      "execution_count": 2,
      "outputs": [
        {
          "output_type": "stream",
          "name": "stdout",
          "text": [
            "Cloning into 'neurips_bdl_starter_kit'...\n",
            "remote: Enumerating objects: 130, done.\u001b[K\n",
            "remote: Counting objects: 100% (130/130), done.\u001b[K\n",
            "remote: Compressing objects: 100% (96/96), done.\u001b[K\n",
            "remote: Total 130 (delta 65), reused 77 (delta 31), pack-reused 0\u001b[K\n",
            "Receiving objects: 100% (130/130), 4.84 MiB | 19.05 MiB/s, done.\n",
            "Resolving deltas: 100% (65/65), done.\n",
            "Collecting git+https://github.com/deepmind/dm-haiku\n",
            "  Cloning https://github.com/deepmind/dm-haiku to /tmp/pip-req-build-io00727g\n",
            "  Running command git clone -q https://github.com/deepmind/dm-haiku /tmp/pip-req-build-io00727g\n",
            "Requirement already satisfied: absl-py>=0.7.1 in /usr/local/lib/python3.7/dist-packages (from dm-haiku==0.0.5.dev0) (0.12.0)\n",
            "Collecting jmp>=0.0.2\n",
            "  Downloading jmp-0.0.2-py3-none-any.whl (16 kB)\n",
            "Requirement already satisfied: numpy>=1.18.0 in /usr/local/lib/python3.7/dist-packages (from dm-haiku==0.0.5.dev0) (1.19.5)\n",
            "Requirement already satisfied: tabulate>=0.8.9 in /usr/local/lib/python3.7/dist-packages (from dm-haiku==0.0.5.dev0) (0.8.9)\n",
            "Requirement already satisfied: typing_extensions in /usr/local/lib/python3.7/dist-packages (from dm-haiku==0.0.5.dev0) (3.7.4.3)\n",
            "Requirement already satisfied: six in /usr/local/lib/python3.7/dist-packages (from absl-py>=0.7.1->dm-haiku==0.0.5.dev0) (1.15.0)\n",
            "Building wheels for collected packages: dm-haiku\n",
            "  Building wheel for dm-haiku (setup.py) ... \u001b[?25l\u001b[?25hdone\n",
            "  Created wheel for dm-haiku: filename=dm_haiku-0.0.5.dev0-py3-none-any.whl size=533610 sha256=8dcf288560a5acc51bca0def50c7812908bfb015dff9e8a6ffc9bc5fa0c176dd\n",
            "  Stored in directory: /tmp/pip-ephem-wheel-cache-zexfyq_y/wheels/06/28/69/ebaac5b2435641427299f29d88d005fb4e2627f4a108f0bdbc\n",
            "Successfully built dm-haiku\n",
            "Installing collected packages: jmp, dm-haiku\n",
            "Successfully installed dm-haiku-0.0.5.dev0 jmp-0.0.2\n",
            "Collecting optax\n",
            "  Downloading optax-0.0.9-py3-none-any.whl (118 kB)\n",
            "\u001b[K     |████████████████████████████████| 118 kB 5.3 MB/s \n",
            "\u001b[?25hRequirement already satisfied: absl-py>=0.7.1 in /usr/local/lib/python3.7/dist-packages (from optax) (0.12.0)\n",
            "Requirement already satisfied: numpy>=1.18.0 in /usr/local/lib/python3.7/dist-packages (from optax) (1.19.5)\n",
            "Requirement already satisfied: jaxlib>=0.1.37 in /usr/local/lib/python3.7/dist-packages (from optax) (0.1.71+cuda111)\n",
            "Collecting chex>=0.0.4\n",
            "  Downloading chex-0.0.8-py3-none-any.whl (57 kB)\n",
            "\u001b[K     |████████████████████████████████| 57 kB 4.7 MB/s \n",
            "\u001b[?25hRequirement already satisfied: jax>=0.1.55 in /usr/local/lib/python3.7/dist-packages (from optax) (0.2.21)\n",
            "Requirement already satisfied: six in /usr/local/lib/python3.7/dist-packages (from absl-py>=0.7.1->optax) (1.15.0)\n",
            "Requirement already satisfied: dm-tree>=0.1.5 in /usr/local/lib/python3.7/dist-packages (from chex>=0.0.4->optax) (0.1.6)\n",
            "Requirement already satisfied: toolz>=0.9.0 in /usr/local/lib/python3.7/dist-packages (from chex>=0.0.4->optax) (0.11.1)\n",
            "Requirement already satisfied: scipy>=1.2.1 in /usr/local/lib/python3.7/dist-packages (from jax>=0.1.55->optax) (1.4.1)\n",
            "Requirement already satisfied: opt-einsum in /usr/local/lib/python3.7/dist-packages (from jax>=0.1.55->optax) (3.3.0)\n",
            "Requirement already satisfied: flatbuffers<3.0,>=1.12 in /usr/local/lib/python3.7/dist-packages (from jaxlib>=0.1.37->optax) (1.12)\n",
            "Installing collected packages: chex, optax\n",
            "Successfully installed chex-0.0.8 optax-0.0.9\n"
          ]
        }
      ]
    },
    {
      "cell_type": "markdown",
      "metadata": {
        "id": "M-y0E6l4fM7n"
      },
      "source": [
        "We provide the datasets used in this competition in a public Google Cloud Storage bucket in the `.npz` format. You can also download the data to your computer using these links:\n",
        "\n",
        "- [CIFAR-10](https://storage.googleapis.com/neurips2021_bdl_competition/evaluation_phase/cifar_anon.npz)\n",
        "- [MedMNIST](https://storage.googleapis.com/neurips2021_bdl_competition/evaluation_phase/dermamnist_anon.npz)\n",
        "- [UCI-Gap](https://storage.googleapis.com/neurips2021_bdl_competition/evaluation_phase/energy_anon.npz)\n",
        "- [Diabetic Retinopathy](https://storage.googleapis.com/neurips2021_bdl_competition/evaluation_phase/retinopathy_anon.npz)\n",
        "\n",
        "In colab, you can download the data using `gsutil`. In this colab we will use the [*Diabetic Retinopathy*](https://github.com/google/uncertainty-baselines/tree/main/baselines/diabetic_retinopathy_detection) dataset as our main example."
      ]
    },
    {
      "cell_type": "markdown",
      "metadata": {
        "id": "qUC15oi7Xys-"
      },
      "source": [
        "**Note:** for each of the datasets, we provide the data after applying the same preprocessing that was used in our HMC runs.\n",
        "\n",
        "**Note:** we do not include the true test set labels `y_test` for the evaluation datasets. You are not allowed to use the true labels on the test data in your submissions."
      ]
    },
    {
      "cell_type": "code",
      "metadata": {
        "colab": {
          "base_uri": "https://localhost:8080/"
        },
        "id": "WMTtfipveg8o",
        "outputId": "c14716bd-bc0e-407b-fc47-dd10f5dcf134"
      },
      "source": [
        "!gsutil -m cp -r gs://neurips2021_bdl_competition/evaluation_phase/retinopathy_anon.npz .\n",
        "data = onp.load(\"retinopathy_anon.npz\")\n",
        "x_train = data[\"x_train\"]\n",
        "y_train = data[\"y_train\"]\n",
        "x_test = data[\"x_test\"]\n",
        "y_test = data[\"y_test\"]"
      ],
      "execution_count": 22,
      "outputs": [
        {
          "output_type": "stream",
          "name": "stdout",
          "text": [
            "Copying gs://neurips2021_bdl_competition/evaluation_phase/retinopathy_anon.npz...\n",
            "- [1/1 files][  3.6 GiB/  3.6 GiB] 100% Done  30.2 MiB/s ETA 00:00:00           \n",
            "Operation completed over 1 objects/3.6 GiB.                                      \n"
          ]
        }
      ]
    },
    {
      "cell_type": "markdown",
      "metadata": {
        "id": "7m7LrYPlgU6V"
      },
      "source": [
        "In this dataset, the goal is to detect diabetic retinopathy using images of blood vessels in the eye."
      ]
    },
    {
      "cell_type": "code",
      "metadata": {
        "colab": {
          "base_uri": "https://localhost:8080/",
          "height": 287
        },
        "id": "17cw77nbNe8R",
        "outputId": "90aa9818-b166-4ae0-c3b3-fd928e88ca95"
      },
      "source": [
        "plt.imshow(x_train[1])\n",
        "plt.colorbar()"
      ],
      "execution_count": 6,
      "outputs": [
        {
          "output_type": "execute_result",
          "data": {
            "text/plain": [
              "<matplotlib.colorbar.Colorbar at 0x7f63498444d0>"
            ]
          },
          "metadata": {},
          "execution_count": 6
        },
        {
          "output_type": "display_data",
          "data": {
            "image/png": "[encoded data removed]",
            "text/plain": [
              "<Figure size 432x288 with 2 Axes>"
            ]
          },
          "metadata": {
            "needs_background": "light"
          }
        }
      ]
    },
    {
      "cell_type": "markdown",
      "metadata": {
        "id": "il-17KvSgqW-"
      },
      "source": [
        "We define a tf.data.Dataset for the train and test datasets."
      ]
    },
    {
      "cell_type": "code",
      "metadata": {
        "id": "j9-1-GBd-n_2"
      },
      "source": [
        "train_dataset = tf.data.Dataset.from_tensor_slices((x_train, y_train))\n",
        "test_dataset = tf.data.Dataset.from_tensor_slices((x_test, y_test))"
      ],
      "execution_count": 7,
      "outputs": []
    },
    {
      "cell_type": "markdown",
      "metadata": {
        "id": "gfNfnF1INlyG"
      },
      "source": [
        "## Model and Losses"
      ]
    },
    {
      "cell_type": "markdown",
      "metadata": {
        "id": "AamM756Tg8Ec"
      },
      "source": [
        "We provide the code for all the models used in the competition in the `neurips_bdl_starter_kit/jax_models.py` module. Here, we will load a CNN model that we used on the diabetic retinopathy detection problem. The models are implemented in [`haiku`](https://github.com/deepmind/dm-haiku).\n",
        "\n",
        "We also define the cross-entropy likelihood (`log_likelihood_fn`) and Gaussian prior (`log_prior_fn`), and the corresponding posterior log-density (`log_posterior_fn`). The `log_posterior_wgrad_fn` computes the posterior log-density and its gradients with respect to the parameters of the model.\n",
        "\n",
        "The `evaluate_fn` function computes the accuracy and predictions of the model on a given dataset; we will use this function to generate the predictions for our submission."
      ]
    },
    {
      "cell_type": "markdown",
      "metadata": {
        "id": "ZdpAATCHhNO5"
      },
      "source": [
        "**Warning:** The diabetic retinopathy dataset shows significant class imbalance. When training with SGD, it struggles to fit the data, as we will see below."
      ]
    },
    {
      "cell_type": "code",
      "metadata": {
        "id": "VU7a389zNcqF"
      },
      "source": [
        "net_apply, net_init = models.get_model(\"retinopathy_cnn\", data_info={\"num_classes\": 2})\n",
        "\n",
        "prior_variance = 0.05\n",
        "\n",
        "def log_likelihood_fn(params, batch, is_training=True):\n",
        "    \"\"\"Computes the log-likelihood.\"\"\"\n",
        "    x, y = batch\n",
        "    logits = net_apply(params, None, x, is_training)\n",
        "    num_classes = logits.shape[-1]\n",
        "    labels = jax.nn.one_hot(y, num_classes)\n",
        "    softmax_xent = jnp.sum(labels * jax.nn.log_softmax(logits))\n",
        "\n",
        "    return softmax_xent\n",
        "\n",
        "\n",
        "def log_prior_fn(params):\n",
        "    \"\"\"Computes the Gaussian prior log-density.\"\"\"\n",
        "    n_params = sum([p.size for p in jax.tree_leaves(params)])\n",
        "    exp_term = sum(jax.tree_leaves(jax.tree_map(\n",
        "        lambda p: (-p**2 / (2 * prior_variance)).sum(), params)))\n",
        "    norm_constant = -0.5 * n_params * jnp.log((2 * math.pi * prior_variance))\n",
        "    return exp_term + norm_constant\n",
        "\n",
        "\n",
        "def log_posterior_fn(params, batch, is_training=True):\n",
        "    log_lik = log_likelihood_fn(params, batch, is_training=True)\n",
        "    log_prior = log_prior_fn(params)\n",
        "    return log_lik + log_prior\n",
        "    # return log_lik\n",
        "\n",
        "\n",
        "@jax.jit\n",
        "def get_accuracy_fn(batch, params):\n",
        "    x, y = batch\n",
        "    logits = net_apply(params, None, x, False)\n",
        "    probs = jax.nn.softmax(logits, axis=1)\n",
        "    preds = jnp.argmax(logits, axis=1)\n",
        "    accuracy = (preds == y).mean()\n",
        "    return accuracy, probs\n",
        "\n",
        "\n",
        "def evaluate_fn(dataset, params):\n",
        "    sum_accuracy = 0\n",
        "    all_probs = []\n",
        "    for x, y in dataset:\n",
        "        x, y = jnp.asarray(x), jnp.asarray(y)\n",
        "        batch_accuracy, batch_probs = get_accuracy_fn((x, y), params)\n",
        "        sum_accuracy += batch_accuracy.item()\n",
        "        all_probs.append(onp.asarray(batch_probs))\n",
        "    all_probs = jnp.concatenate(all_probs, axis=0)\n",
        "    return sum_accuracy / len(dataset), all_probs\n",
        "\n",
        "\n",
        "log_posterior_wgrad_fn = jax.jit(jax.value_and_grad(log_posterior_fn, argnums=0))"
      ],
      "execution_count": 42,
      "outputs": []
    },
    {
      "cell_type": "code",
      "metadata": {
        "id": "7dPrzjSJOcKQ"
      },
      "source": [
        "seed = jax.random.PRNGKey(0)\n",
        "key, net_init_key = jax.random.split(seed, 2)\n",
        "init_data, _ = next(iter(train_dataset))\n",
        "init_data = jnp.asarray(init_data)[None, :]\n",
        "params = net_init(net_init_key, init_data, True)"
      ],
      "execution_count": 49,
      "outputs": []
    },
    {
      "cell_type": "markdown",
      "metadata": {
        "id": "KEZnIWNmUEwE"
      },
      "source": [
        "## Optimizer\n",
        "\n",
        "In this colab we will train an approximate maximum-a-posteriori (MAP) solution as our submission for simplicity. You can find efficient implementations of more advanced baselines [here](https://github.com/google-research/google-research/tree/master/bnn_hmc).\n",
        "\n",
        "We will use SGD with momentum. You can adjust the hyper-parameters or switch to a different optimizer by changing the code below.\n",
        "\n",
        "`update_fn` implements a single optimization step on a mini-batch of data."
      ]
    },
    {
      "cell_type": "code",
      "metadata": {
        "id": "fLGw_AVJtjy3"
      },
      "source": [
        "batch_size = 100\n",
        "test_batch_size = 1000\n",
        "num_epochs = 1\n",
        "shuffle_buffer_size = 1000\n",
        "momentum_decay = 0.9\n",
        "init_lr = 1.e-4\n",
        "\n",
        "train_dataset_batched = train_dataset.shuffle(shuffle_buffer_size, reshuffle_each_iteration=True)\n",
        "train_dataset_batched = train_dataset_batched.batch(batch_size)\n",
        "test_dataset_batched = test_dataset.batch(test_batch_size)\n",
        "\n",
        "epoch_steps = len(train_dataset_batched)\n",
        "total_steps = epoch_steps * num_epochs\n",
        "\n",
        "\n",
        "\n",
        "def lr_schedule(step):\n",
        "    t = step / total_steps\n",
        "    return 0.5 * init_lr * (1 + jnp.cos(t * onp.pi))\n",
        "\n",
        "optimizer = optax.chain(\n",
        "    optax.trace(decay=momentum_decay, nesterov=False),\n",
        "    optax.scale_by_schedule(lr_schedule))\n",
        "opt_state = optimizer.init(params)\n",
        "\n",
        "\n",
        "@jax.jit\n",
        "def update_fn(batch, params, opt_state):\n",
        "  x, y = batch\n",
        "  loss, grad = log_posterior_wgrad_fn(params, (x, y))\n",
        "  updates, new_opt_state = optimizer.update(grad, opt_state)\n",
        "  new_params = optax.apply_updates(params, updates)\n",
        "  return new_params, new_opt_state, loss"
      ],
      "execution_count": 50,
      "outputs": []
    },
    {
      "cell_type": "markdown",
      "metadata": {
        "id": "byrbWJFvVACJ"
      },
      "source": [
        "## Training\n",
        "\n",
        "We will run training for 1 epoch, which can take several minutes to complete. Note that in order to achieve good results you need to run the method substantially longer and tune the hyper-parameters."
      ]
    },
    {
      "cell_type": "code",
      "metadata": {
        "colab": {
          "base_uri": "https://localhost:8080/"
        },
        "id": "zzHlKEK1uKBS",
        "outputId": "4c45db03-9a29-43dd-c53c-36fe71a24602"
      },
      "source": [
        "for epoch in range(num_epochs):\n",
        "    sum_loss = 0.\n",
        "    for i, (x, y) in tqdm.tqdm(enumerate(train_dataset_batched)):\n",
        "        x, y = jnp.asarray(x), jnp.asarray(y)\n",
        "        params, opt_state, loss = update_fn((x, y), params, opt_state)\n",
        "        sum_loss += loss\n",
        "        if i % 50 == 0:\n",
        "          print(f\"\\tPosterior Log-density: {loss}\")\n",
        "\n",
        "    \n",
        "    test_acc, all_test_probs = evaluate_fn(test_dataset_batched, params)\n",
        "    print(\"Epoch {}\".format(epoch))\n",
        "    print(\"\\tAverage loss: {}\".format(sum_loss / epoch_steps))\n",
        "    print(\"\\tTest accuracy: {}\".format(test_acc))\n",
        "\n",
        "all_test_probs = onp.asarray(all_test_probs)"
      ],
      "execution_count": 51,
      "outputs": [
        {
          "output_type": "stream",
          "name": "stderr",
          "text": [
            "1it [00:06,  6.61s/it]"
          ]
        },
        {
          "output_type": "stream",
          "name": "stdout",
          "text": [
            "\tPosterior Log-density: 37468.2578125\n"
          ]
        },
        {
          "output_type": "stream",
          "name": "stderr",
          "text": [
            "51it [01:18,  1.40s/it]"
          ]
        },
        {
          "output_type": "stream",
          "name": "stdout",
          "text": [
            "\tPosterior Log-density: 39395.83984375\n"
          ]
        },
        {
          "output_type": "stream",
          "name": "stderr",
          "text": [
            "101it [02:29,  1.47s/it]"
          ]
        },
        {
          "output_type": "stream",
          "name": "stdout",
          "text": [
            "\tPosterior Log-density: 39697.96484375\n"
          ]
        },
        {
          "output_type": "stream",
          "name": "stderr",
          "text": [
            "151it [03:43,  1.46s/it]"
          ]
        },
        {
          "output_type": "stream",
          "name": "stdout",
          "text": [
            "\tPosterior Log-density: 39727.97265625\n"
          ]
        },
        {
          "output_type": "stream",
          "name": "stderr",
          "text": [
            "201it [04:55,  1.43s/it]"
          ]
        },
        {
          "output_type": "stream",
          "name": "stdout",
          "text": [
            "\tPosterior Log-density: 39735.50390625\n"
          ]
        },
        {
          "output_type": "stream",
          "name": "stderr",
          "text": [
            "251it [06:07,  1.50s/it]"
          ]
        },
        {
          "output_type": "stream",
          "name": "stdout",
          "text": [
            "\tPosterior Log-density: 39737.55859375\n"
          ]
        },
        {
          "output_type": "stream",
          "name": "stderr",
          "text": [
            "301it [07:19,  1.40s/it]"
          ]
        },
        {
          "output_type": "stream",
          "name": "stdout",
          "text": [
            "\tPosterior Log-density: 39730.77734375\n"
          ]
        },
        {
          "output_type": "stream",
          "name": "stderr",
          "text": [
            "351it [08:31,  1.44s/it]"
          ]
        },
        {
          "output_type": "stream",
          "name": "stdout",
          "text": [
            "\tPosterior Log-density: 39731.83984375\n"
          ]
        },
        {
          "output_type": "stream",
          "name": "stderr",
          "text": [
            "352it [08:35,  1.47s/it]\n"
          ]
        },
        {
          "output_type": "stream",
          "name": "stdout",
          "text": [
            "Epoch 0\n",
            "\tAverage loss: 39541.0234375\n",
            "\tTest accuracy: 0.8071975403053816\n"
          ]
        }
      ]
    },
    {
      "cell_type": "markdown",
      "metadata": {
        "id": "k1OiFqsCyqkM"
      },
      "source": [
        "Due to class imbalance, with default parameters the model learns to always predict class `0`. Be sure to check that your methods produce more meaningful predictions:"
      ]
    },
    {
      "cell_type": "code",
      "metadata": {
        "colab": {
          "base_uri": "https://localhost:8080/"
        },
        "id": "OFii62gvyEL_",
        "outputId": "f686a6c0-dff0-4994-aa17-8869c631fdae"
      },
      "source": [
        "(jnp.argmax(all_test_probs, axis=1) == 0).mean()"
      ],
      "execution_count": 54,
      "outputs": [
        {
          "output_type": "execute_result",
          "data": {
            "text/plain": [
              "DeviceArray(1., dtype=float32)"
            ]
          },
          "metadata": {},
          "execution_count": 54
        }
      ]
    },
    {
      "cell_type": "markdown",
      "metadata": {
        "id": "R3fwAXagp46Y"
      },
      "source": [
        "## Preparing the submission\n",
        "Once you run the code above, `all_test_probs` should contain an array of size TODO x 2 where the rows correspond to test datapoints and columns correspond to classes."
      ]
    },
    {
      "cell_type": "markdown",
      "metadata": {
        "id": "FB2LhtfUW1ar"
      },
      "source": [
        "Now, we need to save the array as `retinopathy_probs.csv` and create a zip archive with this file."
      ]
    },
    {
      "cell_type": "code",
      "metadata": {
        "colab": {
          "base_uri": "https://localhost:8080/"
        },
        "id": "h0CtqrJCI2-F",
        "outputId": "38c1cebc-b310-489a-a70b-39047308f3d6"
      },
      "source": [
        "onp.savetxt(\"retinopathy_probs.csv\", all_test_probs)\n",
        "\n",
        "!zip submission.zip retinopathy_probs.csv"
      ],
      "execution_count": 55,
      "outputs": [
        {
          "output_type": "stream",
          "name": "stdout",
          "text": [
            "  adding: retinopathy_probs.csv (deflated 98%)\n"
          ]
        }
      ]
    },
    {
      "cell_type": "markdown",
      "metadata": {
        "id": "f-3deTsUNcqI"
      },
      "source": [
        "Finally, you can download the submission by running the code below. If the download doesn't start, check that your browser did not block it automatically."
      ]
    },
    {
      "cell_type": "code",
      "metadata": {
        "colab": {
          "base_uri": "https://localhost:8080/",
          "height": 17
        },
        "id": "ieCUqCPjJP0k",
        "outputId": "ee5528f5-a71f-408b-9e8a-afa480c86263"
      },
      "source": [
        "from google.colab import files\n",
        "files.download('submission.zip') "
      ],
      "execution_count": 56,
      "outputs": [
        {
          "output_type": "display_data",
          "data": {
            "application/javascript": [
              "\n",
              "    async function download(id, filename, size) {\n",
              "      if (!google.colab.kernel.accessAllowed) {\n",
              "        return;\n",
              "      }\n",
              "      const div = document.createElement('div');\n",
              "      const label = document.createElement('label');\n",
              "      label.textContent = `Downloading \"${filename}\": `;\n",
              "      div.appendChild(label);\n",
              "      const progress = document.createElement('progress');\n",
              "      progress.max = size;\n",
              "      div.appendChild(progress);\n",
              "      document.body.appendChild(div);\n",
              "\n",
              "      const buffers = [];\n",
              "      let downloaded = 0;\n",
              "\n",
              "      const channel = await google.colab.kernel.comms.open(id);\n",
              "      // Send a message to notify the kernel that we're ready.\n",
              "      channel.send({})\n",
              "\n",
              "      for await (const message of channel.messages) {\n",
              "        // Send a message to notify the kernel that we're ready.\n",
              "        channel.send({})\n",
              "        if (message.buffers) {\n",
              "          for (const buffer of message.buffers) {\n",
              "            buffers.push(buffer);\n",
              "            downloaded += buffer.byteLength;\n",
              "            progress.value = downloaded;\n",
              "          }\n",
              "        }\n",
              "      }\n",
              "      const blob = new Blob(buffers, {type: 'application/binary'});\n",
              "      const a = document.createElement('a');\n",
              "      a.href = window.URL.createObjectURL(blob);\n",
              "      a.download = filename;\n",
              "      div.appendChild(a);\n",
              "      a.click();\n",
              "      div.remove();\n",
              "    }\n",
              "  "
            ],
            "text/plain": [
              "<IPython.core.display.Javascript object>"
            ]
          },
          "metadata": {}
        },
        {
          "output_type": "display_data",
          "data": {
            "application/javascript": [
              "download(\"download_279045e3-086d-4def-b535-ee9317769dde\", \"submission.zip\", 42705)"
            ],
            "text/plain": [
              "<IPython.core.display.Javascript object>"
            ]
          },
          "metadata": {}
        }
      ]
    },
    {
      "cell_type": "markdown",
      "metadata": {
        "id": "izLlUVM4XIWv"
      },
      "source": [
        "Now you can head over to the [submission system] TODO and upload your submission. Good luck :)"
      ]
    },
    {
      "cell_type": "markdown",
      "metadata": {
        "id": "EYK8WRGo5x1o"
      },
      "source": [
        "## Extended track\n",
        "\n",
        "If you want to participate in the extended track, you will need to produce predictions on 3 additional datasets: CIFAR-10 (with AlexNet-like architecture), [UCI-Gap](https://arxiv.org/abs/1906.11537) (Energy) and [MedMNIST](https://medmnist.com/) (dermamnist). \n",
        "\n",
        "Here, we will walk you through the datasets, architectures and priors and show you how to prepare the full submission.\n",
        "\n",
        "### Classification datasets\n",
        "\n",
        "For CIFAR-10 and MedMNIST the process of loading the data and model and preparing the predictions is fully analogous to Diabetic Retinopathy (see above for a detailed walk-through). So, we will simply show how to download the data and get the corresponding models.\n",
        "\n",
        "**Note**: note that the prior variance differs between datasets. We list the correct value for each dataset."
      ]
    },
    {
      "cell_type": "markdown",
      "metadata": {
        "id": "VlUD9nJWCP-z"
      },
      "source": [
        "#### CIFAR-10"
      ]
    },
    {
      "cell_type": "code",
      "metadata": {
        "colab": {
          "base_uri": "https://localhost:8080/"
        },
        "id": "fTrUOsIa53JS",
        "outputId": "5a90c29e-32cf-4e4d-b379-d91aade4e94f"
      },
      "source": [
        "!gsutil -m cp -r gs://neurips2021_bdl_competition/evaluation_phase/cifar_anon.npz .\n",
        "data = onp.load(\"cifar_anon.npz\")\n",
        "x_train = data[\"x_train\"]\n",
        "y_train = data[\"y_train\"]\n",
        "x_test = data[\"x_test\"]\n",
        "y_test = data[\"y_test\"]"
      ],
      "execution_count": 3,
      "outputs": [
        {
          "output_type": "stream",
          "name": "stdout",
          "text": [
            "Copying gs://neurips2021_bdl_competition/evaluation_phase/cifar_anon.npz...\n",
            "\\ [1/1 files][  1.1 GiB/  1.1 GiB] 100% Done  47.2 MiB/s ETA 00:00:00           \n",
            "Operation completed over 1 objects/1.1 GiB.                                      \n"
          ]
        }
      ]
    },
    {
      "cell_type": "code",
      "metadata": {
        "colab": {
          "base_uri": "https://localhost:8080/",
          "height": 306
        },
        "id": "VqN6Et4G_1ex",
        "outputId": "900bb74f-c694-42a0-dae4-c8d14a1c8815"
      },
      "source": [
        "plt.imshow(x_train[0])\n",
        "plt.colorbar()"
      ],
      "execution_count": 4,
      "outputs": [
        {
          "output_type": "stream",
          "name": "stderr",
          "text": [
            "Clipping input data to the valid range for imshow with RGB data ([0..1] for floats or [0..255] for integers).\n"
          ]
        },
        {
          "output_type": "execute_result",
          "data": {
            "text/plain": [
              "<matplotlib.colorbar.Colorbar at 0x7f6ed6fdf5d0>"
            ]
          },
          "metadata": {},
          "execution_count": 4
        },
        {
          "output_type": "display_data",
          "data": {
            "image/png": "[encoded data removed]",
            "text/plain": [
              "<Figure size 432x288 with 2 Axes>"
            ]
          },
          "metadata": {
            "needs_background": "light"
          }
        }
      ]
    },
    {
      "cell_type": "code",
      "metadata": {
        "id": "ULi0DZRUAVAY"
      },
      "source": [
        "net_apply, net_init = models.get_model(\"cifar_alexnet\", data_info={\"num_classes\": 10})\n",
        "prior_variance = 0.05"
      ],
      "execution_count": 5,
      "outputs": []
    },
    {
      "cell_type": "code",
      "metadata": {
        "id": "DgQHdgvsCjpI"
      },
      "source": [
        "n_test = len(y_test)\n",
        "cifar_fake_preds = onp.asarray(jax.nn.softmax(onp.random.randn(n_test, 10)))\n",
        "onp.savetxt(\"cifar_probs.csv\", cifar_fake_preds)"
      ],
      "execution_count": 7,
      "outputs": []
    },
    {
      "cell_type": "markdown",
      "metadata": {
        "id": "RsJDSSXBDNKW"
      },
      "source": [
        "#### MedMNIST"
      ]
    },
    {
      "cell_type": "code",
      "metadata": {
        "colab": {
          "base_uri": "https://localhost:8080/"
        },
        "id": "w2zZ5CEpDM3B",
        "outputId": "546f3235-99a3-4703-c182-1002244db727"
      },
      "source": [
        "!gsutil -m cp -r gs://neurips2021_bdl_competition/evaluation_phase/dermamnist_anon.npz .\n",
        "data = onp.load(\"dermamnist_anon.npz\")\n",
        "x_train = data[\"x_train\"]\n",
        "y_train = data[\"y_train\"]\n",
        "x_test = data[\"x_test\"]\n",
        "y_test = data[\"y_test\"]"
      ],
      "execution_count": 8,
      "outputs": [
        {
          "output_type": "stream",
          "name": "stdout",
          "text": [
            "Copying gs://neurips2021_bdl_competition/evaluation_phase/dermamnist_anon.npz...\n",
            "- [1/1 files][ 20.2 MiB/ 20.2 MiB] 100% Done                                    \n",
            "Operation completed over 1 objects/20.2 MiB.                                     \n"
          ]
        }
      ]
    },
    {
      "cell_type": "code",
      "metadata": {
        "colab": {
          "base_uri": "https://localhost:8080/",
          "height": 283
        },
        "id": "Sweft1oNDHBu",
        "outputId": "8de7217d-ede7-43c6-faeb-45bee83de9a2"
      },
      "source": [
        "plt.imshow(x_train[4])\n",
        "plt.colorbar()"
      ],
      "execution_count": 9,
      "outputs": [
        {
          "output_type": "execute_result",
          "data": {
            "text/plain": [
              "<matplotlib.colorbar.Colorbar at 0x7f6ec37cff90>"
            ]
          },
          "metadata": {},
          "execution_count": 9
        },
        {
          "output_type": "display_data",
          "data": {
            "image/png": "[encoded data removed]",
            "text/plain": [
              "<Figure size 432x288 with 2 Axes>"
            ]
          },
          "metadata": {
            "needs_background": "light"
          }
        }
      ]
    },
    {
      "cell_type": "code",
      "metadata": {
        "id": "T_PdAwPfDh3t"
      },
      "source": [
        "net_apply, net_init = models.get_model(\"medmnist_lenet\", data_info={\"num_classes\": 7})\n",
        "prior_variance = 0.01"
      ],
      "execution_count": 10,
      "outputs": []
    },
    {
      "cell_type": "code",
      "metadata": {
        "id": "iU4451GcEgn8"
      },
      "source": [
        "n_test = len(y_test)\n",
        "medmnist_fake_preds = onp.asarray(jax.nn.softmax(onp.random.randn(n_test, 7)))\n",
        "onp.savetxt(\"medmnist_probs.csv\", medmnist_fake_preds)"
      ],
      "execution_count": 11,
      "outputs": []
    },
    {
      "cell_type": "markdown",
      "metadata": {
        "id": "n2U0lGFFEqVX"
      },
      "source": [
        "### UCI Regression\n",
        "\n",
        "For the regression data, we use a slightly different output format. We will walk you through defining the model and generating predictions here."
      ]
    },
    {
      "cell_type": "code",
      "metadata": {
        "colab": {
          "base_uri": "https://localhost:8080/"
        },
        "id": "DYFSvLqPEoNi",
        "outputId": "8ab96be5-e34c-4d7f-c7f7-f485cf101a27"
      },
      "source": [
        "!gsutil -m cp -r gs://neurips2021_bdl_competition/evaluation_phase/energy_anon.npz .\n",
        "data = onp.load(\"energy_anon.npz\")\n",
        "x_train = data[\"x_train\"]\n",
        "y_train = data[\"y_train\"]\n",
        "x_test = data[\"x_test\"]\n",
        "y_test = data[\"y_test\"]"
      ],
      "execution_count": 12,
      "outputs": [
        {
          "output_type": "stream",
          "name": "stdout",
          "text": [
            "Copying gs://neurips2021_bdl_competition/evaluation_phase/energy_anon.npz...\n",
            "/ [1/1 files][ 54.0 KiB/ 54.0 KiB] 100% Done                                    \n",
            "Operation completed over 1 objects/54.0 KiB.                                     \n"
          ]
        }
      ]
    },
    {
      "cell_type": "code",
      "metadata": {
        "id": "p2RHyOHhGXvi"
      },
      "source": [
        "net_apply, net_init = models.get_model(\"uci_mlp\", {})\n",
        "prior_variance = 1 / 30"
      ],
      "execution_count": 13,
      "outputs": []
    },
    {
      "cell_type": "markdown",
      "metadata": {
        "id": "Vqsxfp0ZIpa0"
      },
      "source": [
        "Our model will output a Gaussian distribution for each of the input points. Specifically, the model produces two scalar outputs: $\\mu$ and $\\sigma_{isp}$, the mean and the inverse [softplus](https://jax.readthedocs.io/en/latest/_autosummary/jax.nn.softplus.html) of the standard deviation. Let us define the likelihood for this model."
      ]
    },
    {
      "cell_type": "code",
      "metadata": {
        "id": "-a0tlyspGelJ"
      },
      "source": [
        "train_dataset = tf.data.Dataset.from_tensor_slices((x_train, y_train))\n",
        "test_dataset = tf.data.Dataset.from_tensor_slices((x_test, y_test))\n",
        "\n",
        "\n",
        "def log_likelihood_fn(params, batch, is_training=True):\n",
        "    \"\"\"Computes the negative log-likelihood.\n",
        "\n",
        "    The outputs of the network should be two-dimensional.\n",
        "    The first output is treated as predictive mean. The second output is treated\n",
        "    as inverse-softplus of the predictive standard deviation.\n",
        "    \"\"\"\n",
        "    x, y = batch\n",
        "    predictions = net_apply(params, None, x, is_training)\n",
        "\n",
        "    predictions_mean, predictions_std = jnp.split(predictions, [1], axis=-1)\n",
        "    predictions_std = jax.nn.softplus(predictions_std)\n",
        "\n",
        "    se = (predictions_mean - y)**2\n",
        "    log_likelihood = (-0.5 * se / predictions_std**2 -\n",
        "                      0.5 * jnp.log(predictions_std**2 * 2 * math.pi))\n",
        "    log_likelihood = jnp.sum(log_likelihood)\n",
        "\n",
        "    return log_likelihood\n",
        "\n",
        "def log_prior_fn(params):\n",
        "    \"\"\"Computes the Gaussian prior log-density.\"\"\"\n",
        "    n_params = sum([p.size for p in jax.tree_leaves(params)])\n",
        "    exp_term = sum(jax.tree_leaves(jax.tree_map(\n",
        "        lambda p: (-p**2 / (2 * prior_variance)).sum(), params)))\n",
        "    norm_constant = -0.5 * n_params * jnp.log((2 * math.pi * prior_variance))\n",
        "    return exp_term + norm_constant\n",
        "\n",
        "def log_posterior_fn(params, batch, is_training=True):\n",
        "    log_lik = log_likelihood_fn(params, batch, is_training=True)\n",
        "    log_prior = log_prior_fn(params)\n",
        "    return log_lik + log_prior\n",
        "\n",
        "\n",
        "log_posterior_wgrad_fn = jax.jit(jax.value_and_grad(log_posterior_fn, argnums=0))"
      ],
      "execution_count": 14,
      "outputs": []
    },
    {
      "cell_type": "markdown",
      "metadata": {
        "id": "xRMcp13LLYdQ"
      },
      "source": [
        "Now let's initialize the model and train it similarly to the Diabetic Retinopathy example."
      ]
    },
    {
      "cell_type": "code",
      "metadata": {
        "id": "FMSO-_XEKl1U"
      },
      "source": [
        "seed = jax.random.PRNGKey(0)\n",
        "key, net_init_key = jax.random.split(seed, 2)\n",
        "init_data, _ = next(iter(train_dataset))\n",
        "init_data = jnp.asarray(init_data)[None, :]\n",
        "params = net_init(net_init_key, init_data, True)"
      ],
      "execution_count": 15,
      "outputs": []
    },
    {
      "cell_type": "code",
      "metadata": {
        "id": "Tt_ErOrrK6nw"
      },
      "source": [
        "num_epochs = 1000\n",
        "momentum_decay = 0.9\n",
        "init_lr = 1.e-6\n",
        "\n",
        "\n",
        "total_steps = num_epochs\n",
        "\n",
        "\n",
        "def lr_schedule(step):\n",
        "    t = step / total_steps\n",
        "    return 0.5 * init_lr * (1 + jnp.cos(t * onp.pi))\n",
        "\n",
        "optimizer = optax.chain(\n",
        "    optax.trace(decay=momentum_decay, nesterov=False),\n",
        "    optax.scale_by_schedule(lr_schedule))\n",
        "opt_state = optimizer.init(params)\n",
        "\n",
        "\n",
        "@jax.jit\n",
        "def update_fn(batch, params, opt_state):\n",
        "  x, y = batch\n",
        "  loss, grad = log_posterior_wgrad_fn(params, (x, y))\n",
        "  updates, new_opt_state = optimizer.update(grad, opt_state)\n",
        "  new_params = optax.apply_updates(params, updates)\n",
        "  return new_params, new_opt_state, loss"
      ],
      "execution_count": 16,
      "outputs": []
    },
    {
      "cell_type": "code",
      "metadata": {
        "colab": {
          "base_uri": "https://localhost:8080/"
        },
        "id": "JE7bD5pCLSHv",
        "outputId": "b86da038-d679-445b-c63c-45591eeabd55"
      },
      "source": [
        "for epoch in range(num_epochs):\n",
        "    x, y = jnp.asarray(x_train), jnp.asarray(y_train)\n",
        "    params, opt_state, loss = update_fn((x, y), params, opt_state)\n",
        "    if epoch % 50 == 0:\n",
        "      print(f\"\\tPosterior Log-density: {loss}\")"
      ],
      "execution_count": 17,
      "outputs": [
        {
          "output_type": "stream",
          "name": "stdout",
          "text": [
            "\tPosterior Log-density: -1548.1424560546875\n",
            "\tPosterior Log-density: -504.2290344238281\n",
            "\tPosterior Log-density: -162.7780303955078\n",
            "\tPosterior Log-density: -28.746253967285156\n",
            "\tPosterior Log-density: 57.80284118652344\n",
            "\tPosterior Log-density: 125.72540283203125\n",
            "\tPosterior Log-density: 187.26531982421875\n",
            "\tPosterior Log-density: 238.76345825195312\n",
            "\tPosterior Log-density: 274.26690673828125\n",
            "\tPosterior Log-density: 301.8326110839844\n",
            "\tPosterior Log-density: 323.390869140625\n",
            "\tPosterior Log-density: 340.4429016113281\n",
            "\tPosterior Log-density: 353.7496032714844\n",
            "\tPosterior Log-density: 364.08447265625\n",
            "\tPosterior Log-density: 371.9789733886719\n",
            "\tPosterior Log-density: 377.64044189453125\n",
            "\tPosterior Log-density: 381.43304443359375\n",
            "\tPosterior Log-density: 383.750244140625\n",
            "\tPosterior Log-density: 384.9660949707031\n",
            "\tPosterior Log-density: 385.4149475097656\n"
          ]
        }
      ]
    },
    {
      "cell_type": "markdown",
      "metadata": {
        "id": "fe6amre5Nk_q"
      },
      "source": [
        "We can now compute and visualize the predictions on the train set. As we can see, the model was able to fit the train data."
      ]
    },
    {
      "cell_type": "code",
      "metadata": {
        "colab": {
          "base_uri": "https://localhost:8080/",
          "height": 338
        },
        "id": "t5oxruqUMPZz",
        "outputId": "47069fed-667e-466d-8a91-2951f61221e8"
      },
      "source": [
        "train_preds = net_apply(params, None, x_train, False)\n",
        "\n",
        "plt.figure(figsize=(10, 5))\n",
        "idx = onp.argsort(y_train[:, 0])\n",
        "\n",
        "mu = train_preds[:, 0][idx]\n",
        "sigma = train_preds[:, 1][idx]\n",
        "sigma = jax.nn.softplus(sigma)\n",
        "\n",
        "plt.plot(mu, label=\"Predictive mean\")\n",
        "plt.fill_between(onp.arange(len(mu)), mu + 2 * sigma, mu - 2 * sigma, alpha=0.5,\n",
        "                 label=\"2-Sigma region\")\n",
        "plt.plot(y_train[:, 0][idx], \"-r\", lw=3, label=\"Target Values\")\n",
        "plt.legend(fontsize=14)"
      ],
      "execution_count": 18,
      "outputs": [
        {
          "output_type": "execute_result",
          "data": {
            "text/plain": [
              "<matplotlib.legend.Legend at 0x7f6ec0638710>"
            ]
          },
          "metadata": {},
          "execution_count": 18
        },
        {
          "output_type": "display_data",
          "data": {
            "image/png": "[encoded data removed]",
            "text/plain": [
              "<Figure size 720x360 with 1 Axes>"
            ]
          },
          "metadata": {
            "needs_background": "light"
          }
        }
      ]
    },
    {
      "cell_type": "markdown",
      "metadata": {
        "id": "dTDCZx4GNw3V"
      },
      "source": [
        "Now, let us produce the predictions on the test data that we will use in our submission. For UCI-Gap, we ask you to submit a CSV file with 256 rows and 1000 columns. Each row corresponds to a test datapoint $x_i$, and each colum corresponds to a sample from the predictive distribution $p(y \\vert x_i)$. In our case, the predictive distribution is Gaussian, so we can produce the samples as follows:"
      ]
    },
    {
      "cell_type": "code",
      "metadata": {
        "colab": {
          "base_uri": "https://localhost:8080/"
        },
        "id": "hoJKVP6kOJMA",
        "outputId": "8c1c9527-37b9-4dbe-c55a-b1e3ca6fbe79"
      },
      "source": [
        "num_samples = 1000\n",
        "num_data = len(y_test)\n",
        "\n",
        "test_preds = net_apply(params, None, x_test, False)\n",
        "mu = test_preds[:, 0]\n",
        "sigma = test_preds[:, 1]\n",
        "sigma = jax.nn.softplus(sigma)\n",
        "\n",
        "eps = onp.random.rand(num_data, num_samples)\n",
        "samples = mu[:, None] + eps * sigma[:, None]\n",
        "samples.shape"
      ],
      "execution_count": 19,
      "outputs": [
        {
          "output_type": "execute_result",
          "data": {
            "text/plain": [
              "(256, 1000)"
            ]
          },
          "metadata": {},
          "execution_count": 19
        }
      ]
    },
    {
      "cell_type": "markdown",
      "metadata": {
        "id": "z0CkbN0QPV2C"
      },
      "source": [
        "Let us save the samples to a CSV file."
      ]
    },
    {
      "cell_type": "code",
      "metadata": {
        "id": "QsTD1eOvPHT2"
      },
      "source": [
        "onp.savetxt(\"uci_samples.csv\", samples)"
      ],
      "execution_count": 20,
      "outputs": []
    },
    {
      "cell_type": "markdown",
      "metadata": {
        "id": "45lFFnCZP31h"
      },
      "source": [
        "Now we can finally prepare the submission file!"
      ]
    },
    {
      "cell_type": "code",
      "metadata": {
        "colab": {
          "base_uri": "https://localhost:8080/",
          "height": 90
        },
        "id": "kH4iZl0vPd4b",
        "outputId": "153f9b0e-3fa4-41a3-9ba7-e5adb05238f3"
      },
      "source": [
        "!zip extended_submission.zip retinopathy_probs.csv cifar_probs.csv medmnist_probs.csv uci_samples.csv \n",
        "\n",
        "from google.colab import files\n",
        "files.download('extended_submission.zip') "
      ],
      "execution_count": 25,
      "outputs": [
        {
          "output_type": "stream",
          "name": "stdout",
          "text": [
            "updating: cifar_probs.csv (deflated 57%)\n",
            "updating: medmnist_probs.csv (deflated 57%)\n",
            "updating: uci_samples.csv (deflated 63%)\n",
            "  adding: retinopathy_probs.csv (deflated 59%)\n"
          ]
        },
        {
          "output_type": "display_data",
          "data": {
            "application/javascript": [
              "\n",
              "    async function download(id, filename, size) {\n",
              "      if (!google.colab.kernel.accessAllowed) {\n",
              "        return;\n",
              "      }\n",
              "      const div = document.createElement('div');\n",
              "      const label = document.createElement('label');\n",
              "      label.textContent = `Downloading \"${filename}\": `;\n",
              "      div.appendChild(label);\n",
              "      const progress = document.createElement('progress');\n",
              "      progress.max = size;\n",
              "      div.appendChild(progress);\n",
              "      document.body.appendChild(div);\n",
              "\n",
              "      const buffers = [];\n",
              "      let downloaded = 0;\n",
              "\n",
              "      const channel = await google.colab.kernel.comms.open(id);\n",
              "      // Send a message to notify the kernel that we're ready.\n",
              "      channel.send({})\n",
              "\n",
              "      for await (const message of channel.messages) {\n",
              "        // Send a message to notify the kernel that we're ready.\n",
              "        channel.send({})\n",
              "        if (message.buffers) {\n",
              "          for (const buffer of message.buffers) {\n",
              "            buffers.push(buffer);\n",
              "            downloaded += buffer.byteLength;\n",
              "            progress.value = downloaded;\n",
              "          }\n",
              "        }\n",
              "      }\n",
              "      const blob = new Blob(buffers, {type: 'application/binary'});\n",
              "      const a = document.createElement('a');\n",
              "      a.href = window.URL.createObjectURL(blob);\n",
              "      a.download = filename;\n",
              "      div.appendChild(a);\n",
              "      a.click();\n",
              "      div.remove();\n",
              "    }\n",
              "  "
            ],
            "text/plain": [
              "<IPython.core.display.Javascript object>"
            ]
          },
          "metadata": {}
        },
        {
          "output_type": "display_data",
          "data": {
            "application/javascript": [
              "download(\"download_692f56ad-0c8f-4660-84dd-ac7185d36abe\", \"extended_submission.zip\", 8843637)"
            ],
            "text/plain": [
              "<IPython.core.display.Javascript object>"
            ]
          },
          "metadata": {}
        }
      ]
    },
    {
      "cell_type": "code",
      "metadata": {
        "id": "LyEm7nOQ9-4i"
      },
      "source": [
        ""
      ],
      "execution_count": null,
      "outputs": []
    }
  ]
}