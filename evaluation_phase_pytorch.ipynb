{
  "nbformat": 4,
  "nbformat_minor": 0,
  "metadata": {
    "colab": {
      "name": "Copy of evaluation_phase_pytorch.ipynb",
      "provenance": [],
      "collapsed_sections": [],
      "authorship_tag": "ABX9TyMpHPqNPqlQixf385vgvgL8",
      "include_colab_link": true
    },
    "kernelspec": {
      "name": "python3",
      "display_name": "Python 3"
    },
    "language_info": {
      "name": "python"
    },
    "accelerator": "GPU"
  },
  "cells": [
    {
      "cell_type": "markdown",
      "metadata": {
        "id": "view-in-github",
        "colab_type": "text"
      },
      "source": [
        "<a href=\"https://colab.research.google.com/github/izmailovpavel/neurips_bdl_starter_kit/blob/main/evaluation_phase_pytorch.ipynb\" target=\"_parent\"><img src=\"https://colab.research.google.com/assets/colab-badge.svg\" alt=\"Open In Colab\"/></a>"
      ]
    },
    {
      "cell_type": "markdown",
      "metadata": {
        "id": "Uu3QA28YeWTN"
      },
      "source": [
        "# Approximate Inference in Bayesian Deep Learning *Evaluation Phase*: Getting Started in pytorch\n",
        "\n",
        "In this colab we will walk you through downloading the data, running your method and generating a submission for the evaluation phase of our NeurIPS 2021 competition. In this colab we use the pytorch framework.\n",
        "\n",
        "See also our [getting started guide](https://colab.sandbox.google.com/github/izmailovpavel/neurips_bdl_starter_kit/blob/main/getting_started_pytorch.ipynb) for the development phase, for developing and testing your methods against our HMC samples."
      ]
    },
    {
      "cell_type": "markdown",
      "metadata": {
        "id": "BfR7rb5UfV9R"
      },
      "source": [
        "Useful references:\n",
        "- [Competition website](https://izmailovpavel.github.io/neurips_bdl_competition/)\n",
        "- [Efficient implementation of several baselines in JAX](https://github.com/google-research/google-research/tree/master/bnn_hmc)\n",
        "- [Submission platform](https://competitions.codalab.org/competitions/35838)\n",
        "\n",
        "\n",
        "## Setting up colab\n",
        "\n",
        "Colab provides an easy-to-use environment for working on the competition with access to free computational resources. However, you should also be able to run this notebook locally after installing the required dependencies. If you use colab, please select a `GPU` runtime type.\n",
        "\n",
        "## Preparing the data"
      ]
    },
    {
      "cell_type": "code",
      "metadata": {
        "colab": {
          "base_uri": "https://localhost:8080/"
        },
        "id": "sdG1sNkAeI9d",
        "outputId": "f204f793-1144-42c9-ec4f-56198b422454"
      },
      "source": [
        "# uncomment order to re-install the starter kit\n",
        "# !rm -rf neurips_bdl_starter_kit\n",
        "\n",
        "!git clone https://github.com/izmailovpavel/neurips_bdl_starter_kit\n",
        "!pip install einops\n",
        "\n",
        "import sys\n",
        "import math\n",
        "import matplotlib\n",
        "import numpy as onp\n",
        "import einops\n",
        "import torch \n",
        "import torch.nn as nn\n",
        "import torch.nn.functional as F\n",
        "from torch.utils.data import DataLoader, TensorDataset\n",
        "import torch.optim as optim\n",
        "\n",
        "from matplotlib import pyplot as plt\n",
        "import tqdm\n",
        "\n",
        "sys.path.append(\"neurips_bdl_starter_kit\")\n",
        "import pytorch_models as models"
      ],
      "execution_count": null,
      "outputs": [
        {
          "output_type": "stream",
          "name": "stdout",
          "text": [
            "fatal: destination path 'neurips_bdl_starter_kit' already exists and is not an empty directory.\n",
            "Requirement already satisfied: einops in /usr/local/lib/python3.7/dist-packages (0.3.2)\n"
          ]
        }
      ]
    },
    {
      "cell_type": "markdown",
      "metadata": {
        "id": "M-y0E6l4fM7n"
      },
      "source": [
        "We provide the datasets used in this competition in a public Google Cloud Storage bucket in the `.npz` format. You can also download the data to your computer using these links:\n",
        "\n",
        "- [CIFAR-10](https://storage.googleapis.com/neurips2021_bdl_competition/evaluation_phase/cifar_anon.npz)\n",
        "- [MedMNIST](https://storage.googleapis.com/neurips2021_bdl_competition/evaluation_phase/dermamnist_anon.npz)\n",
        "- [UCI-Gap](https://storage.googleapis.com/neurips2021_bdl_competition/evaluation_phase/energy_anon.npz)\n",
        "- [Diabetic Retinopathy](https://storage.googleapis.com/neurips2021_bdl_competition/evaluation_phase/retinopathy_anon.npz)\n",
        "\n",
        "In colab, you can download the data using `gsutil`. In this colab we will use the [*Diabetic Retinopathy*](https://github.com/google/uncertainty-baselines/tree/main/baselines/diabetic_retinopathy_detection) dataset as our main example."
      ]
    },
    {
      "cell_type": "markdown",
      "metadata": {
        "id": "7ECCl2Lr4tDH"
      },
      "source": [
        "**Note:** for each of the datasets, we provide the data after applying the same preprocessing that was used in our HMC runs.\n",
        "\n",
        "**Note:** we do not include the true test set labels `y_test` for the evaluation datasets. You are not allowed to use the true labels on the test data in your submissions."
      ]
    },
    {
      "cell_type": "code",
      "metadata": {
        "id": "WMTtfipveg8o"
      },
      "source": [
        "# !gsutil -m cp -r gs://neurips2021_bdl_competition/evaluation_phase/retinopathy_anon.npz .\n",
        "data = onp.load(\"retinopathy_anon.npz\")\n",
        "x_train = data[\"x_train\"]\n",
        "y_train = data[\"y_train\"]\n",
        "x_test = data[\"x_test\"]\n",
        "y_test = data[\"y_test\"]\n",
        "\n",
        "x_train_ = einops.rearrange(x_train, \"n h w c -> n c h w\")\n",
        "x_test_ = einops.rearrange(x_test, \"n h w c -> n c h w\")"
      ],
      "execution_count": null,
      "outputs": []
    },
    {
      "cell_type": "markdown",
      "metadata": {
        "id": "7m7LrYPlgU6V"
      },
      "source": [
        "In this dataset, the goal is to detect diabetic retinopathy using images of blood vessels in the eye."
      ]
    },
    {
      "cell_type": "code",
      "metadata": {
        "colab": {
          "base_uri": "https://localhost:8080/",
          "height": 287
        },
        "id": "17cw77nbNe8R",
        "outputId": "54e303b0-6de7-4406-d13e-21963b94d205"
      },
      "source": [
        "plt.imshow(x_train[1])\n",
        "plt.colorbar()"
      ],
      "execution_count": null,
      "outputs": [
        {
          "output_type": "execute_result",
          "data": {
            "text/plain": [
              "<matplotlib.colorbar.Colorbar at 0x7f6e5c352f50>"
            ]
          },
          "metadata": {},
          "execution_count": 32
        },
        {
          "output_type": "display_data",
          "data": {
            "image/png": "[encoded data removed]",
            "text/plain": [
              "<Figure size 432x288 with 2 Axes>"
            ]
          },
          "metadata": {
            "needs_background": "light"
          }
        }
      ]
    },
    {
      "cell_type": "markdown",
      "metadata": {
        "id": "il-17KvSgqW-"
      },
      "source": [
        "We define a tf.data.Dataset for the train and test datasets."
      ]
    },
    {
      "cell_type": "code",
      "metadata": {
        "id": "j9-1-GBd-n_2"
      },
      "source": [
        "train_dataset = TensorDataset(torch.from_numpy(x_train_).float(),\n",
        "                              torch.from_numpy(y_train).long())\n",
        "test_dataset = TensorDataset(torch.from_numpy(x_test_).float(),\n",
        "                             torch.from_numpy(y_test).long())"
      ],
      "execution_count": null,
      "outputs": []
    },
    {
      "cell_type": "markdown",
      "metadata": {
        "id": "gfNfnF1INlyG"
      },
      "source": [
        "## Model and Losses"
      ]
    },
    {
      "cell_type": "markdown",
      "metadata": {
        "id": "AamM756Tg8Ec"
      },
      "source": [
        "We provide the code for all the models used in the competition in the `neurips_bdl_starter_kit/pytorch_models.py` module. Here, we will load a CNN model that we used on the diabetic retinopathy detection problem.\n",
        "\n",
        "We also define the cross-entropy likelihood (`log_likelihood_fn`) and Gaussian prior (`log_prior_fn`), and the corresponding posterior log-density (`log_posterior_fn`).\n",
        "\n",
        "The `evaluate_fn` function computes the accuracy and predictions of the model on a given dataset; we will use this function to generate the predictions for our submission."
      ]
    },
    {
      "cell_type": "markdown",
      "metadata": {
        "id": "ZdpAATCHhNO5"
      },
      "source": [
        "**Warning:** The diabetic retinopathy dataset shows significant class imbalance. When training with SGD, it struggles to fit the data, as we will see below."
      ]
    },
    {
      "cell_type": "code",
      "metadata": {
        "colab": {
          "base_uri": "https://localhost:8080/"
        },
        "id": "4DvwR3NbZfrt",
        "outputId": "2f9a6496-38b0-4a6a-f547-4221ac044884"
      },
      "source": [
        "!nvidia-smi"
      ],
      "execution_count": null,
      "outputs": [
        {
          "output_type": "stream",
          "name": "stdout",
          "text": [
            "Tue Oct 12 16:48:49 2021       \n",
            "+-----------------------------------------------------------------------------+\n",
            "| NVIDIA-SMI 470.74       Driver Version: 460.32.03    CUDA Version: 11.2     |\n",
            "|-------------------------------+----------------------+----------------------+\n",
            "| GPU  Name        Persistence-M| Bus-Id        Disp.A | Volatile Uncorr. ECC |\n",
            "| Fan  Temp  Perf  Pwr:Usage/Cap|         Memory-Usage | GPU-Util  Compute M. |\n",
            "|                               |                      |               MIG M. |\n",
            "|===============================+======================+======================|\n",
            "|   0  Tesla K80           Off  | 00000000:00:04.0 Off |                    0 |\n",
            "| N/A   35C    P8    28W / 149W |      0MiB / 11441MiB |      0%      Default |\n",
            "|                               |                      |                  N/A |\n",
            "+-------------------------------+----------------------+----------------------+\n",
            "                                                                               \n",
            "+-----------------------------------------------------------------------------+\n",
            "| Processes:                                                                  |\n",
            "|  GPU   GI   CI        PID   Type   Process name                  GPU Memory |\n",
            "|        ID   ID                                                   Usage      |\n",
            "|=============================================================================|\n",
            "|  No running processes found                                                 |\n",
            "+-----------------------------------------------------------------------------+\n"
          ]
        }
      ]
    },
    {
      "cell_type": "code",
      "metadata": {
        "id": "VU7a389zNcqF"
      },
      "source": [
        "model = models.get_model(\"retinopathy_cnn\", data_info={\"num_classes\": 2})\n",
        "model.cuda()\n",
        "prior_variance = 0.05\n",
        "\n",
        "def log_likelihood_fn(model, batch):\n",
        "    \"\"\"Computes the log-likelihood.\"\"\"\n",
        "    x, y = batch\n",
        "    if torch.cuda.is_available():\n",
        "      x = x.cuda()\n",
        "      y = y.cuda()\n",
        "    model.zero_grad()\n",
        "    logits = model(x)\n",
        "    num_classes = logits.shape[-1]\n",
        "    labels = F.one_hot(y, num_classes=num_classes)\n",
        "    softmax_xent = torch.sum(labels * F.log_softmax(logits))\n",
        "\n",
        "    return softmax_xent\n",
        "\n",
        "\n",
        "def log_prior_fn(model):\n",
        "    \"\"\"Computes the Gaussian prior log-density.\"\"\"\n",
        "    n_params = sum(p.numel() for p in model.parameters())\n",
        "    exp_term = sum((-p**2 / (2 * prior_variance)).sum()\n",
        "                   for p in model.parameters())\n",
        "    norm_constant = -0.5 * n_params * math.log((2 * math.pi * prior_variance))\n",
        "    return exp_term + norm_constant\n",
        "\n",
        "\n",
        "def log_posterior_fn(model, batch):\n",
        "    log_lik = log_likelihood_fn(model, batch)\n",
        "    log_prior = log_prior_fn(model)\n",
        "    return log_lik + log_prior\n",
        "\n",
        "\n",
        "def get_accuracy_fn(model, batch):\n",
        "    x, y = batch\n",
        "    if torch.cuda.is_available():\n",
        "      x = x.cuda()\n",
        "      y = y.cuda()\n",
        "\n",
        "    logits = model(x)\n",
        "    probs = F.softmax(logits, dim=1)\n",
        "    preds = torch.argmax(logits, dim=1)\n",
        "    accuracy = (preds == y).float().mean()\n",
        "    return accuracy, probs\n",
        "\n",
        "\n",
        "def evaluate_fn(model, data_loader):\n",
        "    model.eval()\n",
        "    sum_accuracy = 0\n",
        "    all_probs = []\n",
        "    with torch.no_grad():\n",
        "        for bacth in data_loader:       \n",
        "            batch_accuracy, batch_probs = get_accuracy_fn(model, bacth)\n",
        "            sum_accuracy += batch_accuracy.item()\n",
        "            all_probs.append(batch_probs.detach())\n",
        "    all_probs = torch.cat(all_probs, dim=0)\n",
        "    model.train()\n",
        "    return sum_accuracy / len(data_loader), all_probs"
      ],
      "execution_count": null,
      "outputs": []
    },
    {
      "cell_type": "markdown",
      "metadata": {
        "id": "KEZnIWNmUEwE"
      },
      "source": [
        "## Optimizer\n",
        "\n",
        "In this colab we will train an approximate maximum-a-posteriori (MAP) solution as our submission for simplicity. You can find efficient implementations of more advanced baselines (in JAX) [here](https://github.com/google-research/google-research/tree/master/bnn_hmc).\n",
        "\n",
        "We will use SGD with momentum. You can adjust the hyper-parameters or switch to a different optimizer by changing the code below."
      ]
    },
    {
      "cell_type": "code",
      "metadata": {
        "id": "egTGR4TkdPkJ"
      },
      "source": [
        "batch_size = 100\n",
        "test_batch_size = 100\n",
        "num_epochs = 1\n",
        "momentum_decay = 0.9\n",
        "init_lr = 0.001\n",
        "\n",
        "train_loader = DataLoader(train_dataset, batch_size=batch_size, shuffle=True)\n",
        "test_loader = DataLoader(test_dataset, batch_size=test_batch_size, shuffle=False)\n",
        "\n",
        "optimizer = optim.SGD(model.parameters(), lr=init_lr, momentum=momentum_decay)\n",
        "scheduler = torch.optim.lr_scheduler.CosineAnnealingLR(\n",
        "    optimizer, T_max=len(train_loader)*num_epochs)"
      ],
      "execution_count": null,
      "outputs": []
    },
    {
      "cell_type": "markdown",
      "metadata": {
        "id": "byrbWJFvVACJ"
      },
      "source": [
        "## Training\n",
        "\n",
        "We will run training for 1 epoch, which can take several minutes to complete. Note that in order to achieve good results you need to run the method substantially longer and tune the hyper-parameters."
      ]
    },
    {
      "cell_type": "code",
      "metadata": {
        "colab": {
          "base_uri": "https://localhost:8080/"
        },
        "id": "zzHlKEK1uKBS",
        "outputId": "7d9a6317-30db-4e2c-9d0a-2c00354eb0f7"
      },
      "source": [
        "for epoch in range(num_epochs):\n",
        "    sum_loss = 0.\n",
        "    for i, batch in tqdm.tqdm(enumerate(train_loader)):\n",
        "      optimizer.zero_grad()\n",
        "      loss = - log_posterior_fn(model, batch)\n",
        "      loss.backward()\n",
        "      optimizer.step()\n",
        "      scheduler.step()\n",
        "      sum_loss += loss\n",
        "      if i % 50 == 0:\n",
        "        print(f\"\\tPosterior Log-density: {-loss}\")\n",
        "\n",
        "    \n",
        "    print(\"Epoch {}\".format(epoch))\n",
        "    print(\"\\tAverage loss: {}\".format(sum_loss / len(train_loader)))\n",
        "\n",
        "_, all_test_probs = evaluate_fn(model, test_loader)\n",
        "train_acc, _ = evaluate_fn(model, train_loader)\n",
        "print(f\"Train accuracy: {train_acc}\")\n",
        "all_test_probs = all_test_probs.cpu().numpy()"
      ],
      "execution_count": null,
      "outputs": [
        {
          "output_type": "stream",
          "name": "stderr",
          "text": [
            "0it [00:00, ?it/s]/usr/local/lib/python3.7/dist-packages/ipykernel_launcher.py:15: UserWarning: Implicit dimension choice for log_softmax has been deprecated. Change the call to include dim=X as an argument.\n",
            "  from ipykernel import kernelapp as app\n",
            "3it [00:00, 12.02it/s]"
          ]
        },
        {
          "output_type": "stream",
          "name": "stdout",
          "text": [
            "\tPosterior Log-density: 38748.19140625\n"
          ]
        },
        {
          "output_type": "stream",
          "name": "stderr",
          "text": [
            "53it [00:04, 11.90it/s]"
          ]
        },
        {
          "output_type": "stream",
          "name": "stdout",
          "text": [
            "\tPosterior Log-density: 39729.33203125\n"
          ]
        },
        {
          "output_type": "stream",
          "name": "stderr",
          "text": [
            "103it [00:08, 11.94it/s]"
          ]
        },
        {
          "output_type": "stream",
          "name": "stdout",
          "text": [
            "\tPosterior Log-density: 39741.8984375\n"
          ]
        },
        {
          "output_type": "stream",
          "name": "stderr",
          "text": [
            "153it [00:13, 11.93it/s]"
          ]
        },
        {
          "output_type": "stream",
          "name": "stdout",
          "text": [
            "\tPosterior Log-density: 39739.01953125\n"
          ]
        },
        {
          "output_type": "stream",
          "name": "stderr",
          "text": [
            "203it [00:17, 11.97it/s]"
          ]
        },
        {
          "output_type": "stream",
          "name": "stdout",
          "text": [
            "\tPosterior Log-density: 39729.92578125\n"
          ]
        },
        {
          "output_type": "stream",
          "name": "stderr",
          "text": [
            "253it [00:21, 11.85it/s]"
          ]
        },
        {
          "output_type": "stream",
          "name": "stdout",
          "text": [
            "\tPosterior Log-density: 39734.359375\n"
          ]
        },
        {
          "output_type": "stream",
          "name": "stderr",
          "text": [
            "303it [00:26, 11.90it/s]"
          ]
        },
        {
          "output_type": "stream",
          "name": "stdout",
          "text": [
            "\tPosterior Log-density: 39743.5703125\n"
          ]
        },
        {
          "output_type": "stream",
          "name": "stderr",
          "text": [
            "352it [00:30, 11.59it/s]"
          ]
        },
        {
          "output_type": "stream",
          "name": "stdout",
          "text": [
            "\tPosterior Log-density: 39738.1484375\n",
            "Epoch 0\n",
            "\tAverage loss: -39718.4921875\n"
          ]
        },
        {
          "output_type": "stream",
          "name": "stderr",
          "text": [
            "\n"
          ]
        },
        {
          "output_type": "stream",
          "name": "stdout",
          "text": [
            "Train accuracy: 0.8071568843654611\n"
          ]
        }
      ]
    },
    {
      "cell_type": "markdown",
      "metadata": {
        "id": "k1OiFqsCyqkM"
      },
      "source": [
        "Due to class imbalance, with default parameters the model learns to always predict class `0`. Be sure to check that your methods produce more meaningful predictions:"
      ]
    },
    {
      "cell_type": "code",
      "metadata": {
        "colab": {
          "base_uri": "https://localhost:8080/"
        },
        "id": "OFii62gvyEL_",
        "outputId": "17737545-0998-4507-9a4e-40577d8f1a99"
      },
      "source": [
        "(onp.argmax(all_test_probs, axis=1) == 0).mean()"
      ],
      "execution_count": null,
      "outputs": [
        {
          "output_type": "execute_result",
          "data": {
            "text/plain": [
              "1.0"
            ]
          },
          "metadata": {},
          "execution_count": 50
        }
      ]
    },
    {
      "cell_type": "markdown",
      "metadata": {
        "id": "R3fwAXagp46Y"
      },
      "source": [
        "## Preparing the submission\n",
        "Once you run the code above, `all_test_probs` should contain an array of size 42670 x 2 where the rows correspond to test datapoints and columns correspond to classes."
      ]
    },
    {
      "cell_type": "markdown",
      "metadata": {
        "id": "FB2LhtfUW1ar"
      },
      "source": [
        "Now, we need to save the array as `retinopathy_probs.csv` and create a zip archive with this file."
      ]
    },
    {
      "cell_type": "code",
      "metadata": {
        "colab": {
          "base_uri": "https://localhost:8080/"
        },
        "id": "h0CtqrJCI2-F",
        "outputId": "70d92f22-1e75-4f4e-fe3b-4bad95418b47"
      },
      "source": [
        "onp.savetxt(\"retinopathy_probs.csv\", all_test_probs)\n",
        "\n",
        "!zip submission.zip retinopathy_probs.csv"
      ],
      "execution_count": null,
      "outputs": [
        {
          "output_type": "stream",
          "name": "stdout",
          "text": [
            "  adding: retinopathy_probs.csv (deflated 100%)\n"
          ]
        }
      ]
    },
    {
      "cell_type": "markdown",
      "metadata": {
        "id": "f-3deTsUNcqI"
      },
      "source": [
        "Finally, you can download the submission by running the code below. If the download doesn't start, check that your browser did not block it automatically."
      ]
    },
    {
      "cell_type": "code",
      "metadata": {
        "colab": {
          "base_uri": "https://localhost:8080/",
          "height": 17
        },
        "id": "ieCUqCPjJP0k",
        "outputId": "93baf06a-208a-4aca-f732-1859ad5b25b2"
      },
      "source": [
        "from google.colab import files\n",
        "files.download('submission.zip') "
      ],
      "execution_count": null,
      "outputs": [
        {
          "output_type": "display_data",
          "data": {
            "application/javascript": [
              "\n",
              "    async function download(id, filename, size) {\n",
              "      if (!google.colab.kernel.accessAllowed) {\n",
              "        return;\n",
              "      }\n",
              "      const div = document.createElement('div');\n",
              "      const label = document.createElement('label');\n",
              "      label.textContent = `Downloading \"${filename}\": `;\n",
              "      div.appendChild(label);\n",
              "      const progress = document.createElement('progress');\n",
              "      progress.max = size;\n",
              "      div.appendChild(progress);\n",
              "      document.body.appendChild(div);\n",
              "\n",
              "      const buffers = [];\n",
              "      let downloaded = 0;\n",
              "\n",
              "      const channel = await google.colab.kernel.comms.open(id);\n",
              "      // Send a message to notify the kernel that we're ready.\n",
              "      channel.send({})\n",
              "\n",
              "      for await (const message of channel.messages) {\n",
              "        // Send a message to notify the kernel that we're ready.\n",
              "        channel.send({})\n",
              "        if (message.buffers) {\n",
              "          for (const buffer of message.buffers) {\n",
              "            buffers.push(buffer);\n",
              "            downloaded += buffer.byteLength;\n",
              "            progress.value = downloaded;\n",
              "          }\n",
              "        }\n",
              "      }\n",
              "      const blob = new Blob(buffers, {type: 'application/binary'});\n",
              "      const a = document.createElement('a');\n",
              "      a.href = window.URL.createObjectURL(blob);\n",
              "      a.download = filename;\n",
              "      div.appendChild(a);\n",
              "      a.click();\n",
              "      div.remove();\n",
              "    }\n",
              "  "
            ],
            "text/plain": [
              "<IPython.core.display.Javascript object>"
            ]
          },
          "metadata": {}
        },
        {
          "output_type": "display_data",
          "data": {
            "application/javascript": [
              "download(\"download_1234bfe4-a5b1-4e96-8bc3-67f2e7bde11d\", \"submission.zip\", 6454)"
            ],
            "text/plain": [
              "<IPython.core.display.Javascript object>"
            ]
          },
          "metadata": {}
        }
      ]
    },
    {
      "cell_type": "markdown",
      "metadata": {
        "id": "izLlUVM4XIWv"
      },
      "source": [
        "Now you can head over to the [submission system](https://competitions.codalab.org/competitions/35838) and upload your submission. Good luck :)"
      ]
    },
    {
      "cell_type": "markdown",
      "metadata": {
        "id": "EYK8WRGo5x1o"
      },
      "source": [
        "## Extended track\n",
        "\n",
        "If you want to participate in the extended track, you will need to produce predictions on 3 additional datasets: CIFAR-10 (with AlexNet-like architecture), [UCI-Gap](https://arxiv.org/abs/1906.11537) (Energy) and [MedMNIST](https://medmnist.com/) (dermamnist). \n",
        "\n",
        "Here, we will walk you through the datasets, architectures and priors and show you how to prepare the full submission.\n",
        "\n",
        "### Classification datasets\n",
        "\n",
        "For CIFAR-10 and MedMNIST the process of loading the data and model and preparing the predictions is fully analogous to Diabetic Retinopathy (see above for a detailed walk-through). So, we will simply show how to download the data and get the corresponding models.\n",
        "\n",
        "**Note**: note that the prior variance differs between datasets. We list the correct value for each dataset."
      ]
    },
    {
      "cell_type": "markdown",
      "metadata": {
        "id": "VlUD9nJWCP-z"
      },
      "source": [
        "#### CIFAR-10"
      ]
    },
    {
      "cell_type": "code",
      "metadata": {
        "colab": {
          "base_uri": "https://localhost:8080/"
        },
        "id": "fTrUOsIa53JS",
        "outputId": "0add930f-a833-4f24-8cb4-ea377c9fc0de"
      },
      "source": [
        "!gsutil -m cp -r gs://neurips2021_bdl_competition/evaluation_phase/cifar_anon.npz .\n",
        "data = onp.load(\"cifar_anon.npz\")\n",
        "x_train = data[\"x_train\"]\n",
        "y_train = data[\"y_train\"]\n",
        "x_test = data[\"x_test\"]\n",
        "y_test = data[\"y_test\"]\n",
        "\n",
        "x_train_ = einops.rearrange(x_train, \"n h w c -> n c h w\")\n",
        "x_test_ = einops.rearrange(x_test, \"n h w c -> n c h w\")"
      ],
      "execution_count": null,
      "outputs": [
        {
          "output_type": "stream",
          "name": "stdout",
          "text": [
            "Copying gs://neurips2021_bdl_competition/evaluation_phase/cifar_anon.npz...\n",
            "\\ [1/1 files][  1.1 GiB/  1.1 GiB] 100% Done  42.6 MiB/s ETA 00:00:00           \n",
            "Operation completed over 1 objects/1.1 GiB.                                      \n"
          ]
        }
      ]
    },
    {
      "cell_type": "code",
      "metadata": {
        "colab": {
          "base_uri": "https://localhost:8080/",
          "height": 306
        },
        "id": "VqN6Et4G_1ex",
        "outputId": "9a3aa50e-fbfa-468a-fce3-0433bc212e36"
      },
      "source": [
        "plt.imshow(x_train[0])\n",
        "plt.colorbar()"
      ],
      "execution_count": null,
      "outputs": [
        {
          "output_type": "stream",
          "name": "stderr",
          "text": [
            "Clipping input data to the valid range for imshow with RGB data ([0..1] for floats or [0..255] for integers).\n"
          ]
        },
        {
          "output_type": "execute_result",
          "data": {
            "text/plain": [
              "<matplotlib.colorbar.Colorbar at 0x7f6e5af499d0>"
            ]
          },
          "metadata": {},
          "execution_count": 54
        },
        {
          "output_type": "display_data",
          "data": {
            "image/png": "[encoded data removed]",
            "text/plain": [
              "<Figure size 432x288 with 2 Axes>"
            ]
          },
          "metadata": {
            "needs_background": "light"
          }
        }
      ]
    },
    {
      "cell_type": "code",
      "metadata": {
        "id": "ULi0DZRUAVAY"
      },
      "source": [
        "model = models.get_model(\"cifar_alexnet\", data_info={\"num_classes\": 10})\n",
        "prior_variance = 0.05"
      ],
      "execution_count": null,
      "outputs": []
    },
    {
      "cell_type": "code",
      "metadata": {
        "id": "DgQHdgvsCjpI",
        "colab": {
          "base_uri": "https://localhost:8080/"
        },
        "outputId": "989235a5-d8ca-4850-d843-2dcdb1e3a7f6"
      },
      "source": [
        "n_test = len(y_test)\n",
        "cifar_fake_preds = F.softmax(torch.randn(n_test, 10)).numpy()\n",
        "onp.savetxt(\"cifar_probs.csv\", cifar_fake_preds)"
      ],
      "execution_count": null,
      "outputs": [
        {
          "output_type": "stream",
          "name": "stderr",
          "text": [
            "/usr/local/lib/python3.7/dist-packages/ipykernel_launcher.py:2: UserWarning: Implicit dimension choice for softmax has been deprecated. Change the call to include dim=X as an argument.\n",
            "  \n"
          ]
        }
      ]
    },
    {
      "cell_type": "markdown",
      "metadata": {
        "id": "RsJDSSXBDNKW"
      },
      "source": [
        "#### MedMNIST"
      ]
    },
    {
      "cell_type": "code",
      "metadata": {
        "colab": {
          "base_uri": "https://localhost:8080/"
        },
        "id": "w2zZ5CEpDM3B",
        "outputId": "89c19f81-824a-419a-9c0e-bbfdd8867968"
      },
      "source": [
        "!gsutil -m cp -r gs://neurips2021_bdl_competition/evaluation_phase/dermamnist_anon.npz .\n",
        "data = onp.load(\"dermamnist_anon.npz\")\n",
        "x_train = data[\"x_train\"]\n",
        "y_train = data[\"y_train\"]\n",
        "x_test = data[\"x_test\"]\n",
        "y_test = data[\"y_test\"]\n",
        "\n",
        "x_train_ = einops.rearrange(x_train, \"n h w c -> n c h w\")\n",
        "x_test_ = einops.rearrange(x_test, \"n h w c -> n c h w\")"
      ],
      "execution_count": null,
      "outputs": [
        {
          "output_type": "stream",
          "name": "stdout",
          "text": [
            "Copying gs://neurips2021_bdl_competition/evaluation_phase/dermamnist_anon.npz...\n",
            "\\ [1/1 files][ 20.2 MiB/ 20.2 MiB] 100% Done                                    \n",
            "Operation completed over 1 objects/20.2 MiB.                                     \n"
          ]
        }
      ]
    },
    {
      "cell_type": "code",
      "metadata": {
        "colab": {
          "base_uri": "https://localhost:8080/",
          "height": 283
        },
        "id": "Sweft1oNDHBu",
        "outputId": "feb35112-2f29-44a6-b4c1-18c43d92b104"
      },
      "source": [
        "plt.imshow(x_train[4])\n",
        "plt.colorbar()"
      ],
      "execution_count": null,
      "outputs": [
        {
          "output_type": "execute_result",
          "data": {
            "text/plain": [
              "<matplotlib.colorbar.Colorbar at 0x7f6e5b7e27d0>"
            ]
          },
          "metadata": {},
          "execution_count": 59
        },
        {
          "output_type": "display_data",
          "data": {
            "image/png": "[encoded data removed]",
            "text/plain": [
              "<Figure size 432x288 with 2 Axes>"
            ]
          },
          "metadata": {
            "needs_background": "light"
          }
        }
      ]
    },
    {
      "cell_type": "code",
      "metadata": {
        "id": "T_PdAwPfDh3t"
      },
      "source": [
        "model = models.get_model(\"medmnist_lenet\", data_info={\"num_classes\": 7})\n",
        "prior_variance = 0.01"
      ],
      "execution_count": null,
      "outputs": []
    },
    {
      "cell_type": "code",
      "metadata": {
        "id": "iU4451GcEgn8",
        "colab": {
          "base_uri": "https://localhost:8080/"
        },
        "outputId": "84f47c86-dbb1-4830-e3bb-e6864c0e315d"
      },
      "source": [
        "n_test = len(y_test)\n",
        "medmnist_fake_preds = F.softmax(torch.randn(n_test, 10)).numpy()\n",
        "onp.savetxt(\"medmnist_probs.csv\", medmnist_fake_preds)"
      ],
      "execution_count": null,
      "outputs": [
        {
          "output_type": "stream",
          "name": "stderr",
          "text": [
            "/usr/local/lib/python3.7/dist-packages/ipykernel_launcher.py:2: UserWarning: Implicit dimension choice for softmax has been deprecated. Change the call to include dim=X as an argument.\n",
            "  \n"
          ]
        }
      ]
    },
    {
      "cell_type": "markdown",
      "metadata": {
        "id": "n2U0lGFFEqVX"
      },
      "source": [
        "### UCI Regression\n",
        "\n",
        "For the regression data, we use a slightly different output format. We will walk you through defining the model and generating predictions here."
      ]
    },
    {
      "cell_type": "code",
      "metadata": {
        "colab": {
          "base_uri": "https://localhost:8080/"
        },
        "id": "DYFSvLqPEoNi",
        "outputId": "90a846be-75d0-4808-824f-b0670c32fcfe"
      },
      "source": [
        "!gsutil -m cp -r gs://neurips2021_bdl_competition/evaluation_phase/energy_anon.npz .\n",
        "data = onp.load(\"energy_anon.npz\")\n",
        "x_train = data[\"x_train\"]\n",
        "y_train = data[\"y_train\"]\n",
        "x_test = data[\"x_test\"]\n",
        "y_test = data[\"y_test\"]"
      ],
      "execution_count": null,
      "outputs": [
        {
          "output_type": "stream",
          "name": "stdout",
          "text": [
            "Copying gs://neurips2021_bdl_competition/evaluation_phase/energy_anon.npz...\n",
            "/ [1/1 files][ 54.0 KiB/ 54.0 KiB] 100% Done                                    \n",
            "Operation completed over 1 objects/54.0 KiB.                                     \n"
          ]
        }
      ]
    },
    {
      "cell_type": "code",
      "metadata": {
        "id": "p2RHyOHhGXvi"
      },
      "source": [
        "model = models.get_model(\"uci_mlp\", {\"num_features\": x_train.shape[1]})\n",
        "prior_variance = 1 / 30"
      ],
      "execution_count": null,
      "outputs": []
    },
    {
      "cell_type": "markdown",
      "metadata": {
        "id": "Vqsxfp0ZIpa0"
      },
      "source": [
        "Our model will output a Gaussian distribution for each of the input points. Specifically, the model produces two scalar outputs: $\\mu$ and $\\sigma_{isp}$, the mean and the inverse [softplus](https://pytorch.org/docs/stable/generated/torch.nn.Softplus.html) of the standard deviation. Let us define the likelihood for this model."
      ]
    },
    {
      "cell_type": "code",
      "metadata": {
        "id": "-a0tlyspGelJ"
      },
      "source": [
        "train_dataset = (torch.from_numpy(x_train).float(),\n",
        "                 torch.from_numpy(y_train).float())\n",
        "test_dataset = (torch.from_numpy(x_test).float(),\n",
        "                torch.from_numpy(y_test).float())\n",
        "\n",
        "def log_likelihood_fn(model, batch):\n",
        "    \"\"\"Computes the negative log-likelihood.\n",
        "\n",
        "    The outputs of the network should be two-dimensional.\n",
        "    The first output is treated as predictive mean. The second output is treated\n",
        "    as inverse-softplus of the predictive standard deviation.\n",
        "    \"\"\"\n",
        "    x, y = batch\n",
        "    predictions = model(x)\n",
        "\n",
        "    predictions_mean, predictions_std = predictions.split([1, 1], dim=-1)\n",
        "    predictions_std = F.softplus(predictions_std)\n",
        "\n",
        "    se = (predictions_mean - y)**2\n",
        "    log_likelihood = (-0.5 * se / predictions_std**2 -\n",
        "                      0.5 * torch.log(predictions_std**2 * 2 * math.pi))\n",
        "    log_likelihood = torch.sum(log_likelihood)\n",
        "\n",
        "    return log_likelihood\n",
        "\n",
        "def log_prior_fn(model):\n",
        "    \"\"\"Computes the Gaussian prior log-density.\"\"\"\n",
        "    n_params = sum(p.numel() for p in model.parameters())\n",
        "    exp_term = sum((-p**2 / (2 * prior_variance)).sum()\n",
        "                   for p in model.parameters())\n",
        "    norm_constant = -0.5 * n_params * math.log((2 * math.pi * prior_variance))\n",
        "    return exp_term + norm_constant\n",
        "\n",
        "\n",
        "def log_posterior_fn(model, batch):\n",
        "    log_lik = log_likelihood_fn(model, batch)\n",
        "    log_prior = log_prior_fn(model)\n",
        "    return log_lik + log_prior"
      ],
      "execution_count": null,
      "outputs": []
    },
    {
      "cell_type": "markdown",
      "metadata": {
        "id": "xRMcp13LLYdQ"
      },
      "source": [
        "Now let's train the model similarly to the Diabetic Retinopathy example."
      ]
    },
    {
      "cell_type": "code",
      "metadata": {
        "id": "Tt_ErOrrK6nw"
      },
      "source": [
        "num_epochs = 1000#0000\n",
        "momentum_decay = 0.9\n",
        "init_lr = 1.e-6 \n",
        "\n",
        "optimizer = optim.SGD(model.parameters(), lr=init_lr, momentum=momentum_decay)\n",
        "scheduler = torch.optim.lr_scheduler.CosineAnnealingLR(\n",
        "    optimizer, T_max=num_epochs)"
      ],
      "execution_count": null,
      "outputs": []
    },
    {
      "cell_type": "code",
      "metadata": {
        "colab": {
          "base_uri": "https://localhost:8080/"
        },
        "id": "c9PmqLSMn_dy",
        "outputId": "83e4eba3-b5a6-47ca-db1d-34668c468df9"
      },
      "source": [
        "for epoch in range(num_epochs):\n",
        "    optimizer.zero_grad()\n",
        "    loss = - log_posterior_fn(model, train_dataset)\n",
        "    loss.backward()\n",
        "    optimizer.step()\n",
        "    scheduler.step()\n",
        "    if epoch % 50 == 0:\n",
        "      print(f\"\\tPosterior Log-density: {-loss}\")"
      ],
      "execution_count": null,
      "outputs": [
        {
          "output_type": "stream",
          "name": "stdout",
          "text": [
            "\tPosterior Log-density: -396.9594421386719\n",
            "\tPosterior Log-density: -135.68423461914062\n",
            "\tPosterior Log-density: 10.719512939453125\n",
            "\tPosterior Log-density: 127.45893859863281\n",
            "\tPosterior Log-density: 216.31890869140625\n",
            "\tPosterior Log-density: 270.1925048828125\n",
            "\tPosterior Log-density: 297.53289794921875\n",
            "\tPosterior Log-density: 318.3979187011719\n",
            "\tPosterior Log-density: 336.37774658203125\n",
            "\tPosterior Log-density: 351.7747802734375\n",
            "\tPosterior Log-density: 365.06304931640625\n",
            "\tPosterior Log-density: 376.2654724121094\n",
            "\tPosterior Log-density: 385.3034362792969\n",
            "\tPosterior Log-density: 392.2835693359375\n",
            "\tPosterior Log-density: 397.57708740234375\n",
            "\tPosterior Log-density: 401.3660888671875\n",
            "\tPosterior Log-density: 403.9302062988281\n",
            "\tPosterior Log-density: 405.510009765625\n",
            "\tPosterior Log-density: 406.33074951171875\n",
            "\tPosterior Log-density: 406.63677978515625\n"
          ]
        }
      ]
    },
    {
      "cell_type": "markdown",
      "metadata": {
        "id": "fe6amre5Nk_q"
      },
      "source": [
        "We can now compute and visualize the predictions on the train set. As we can see, the model was able to fit the train data."
      ]
    },
    {
      "cell_type": "code",
      "metadata": {
        "colab": {
          "base_uri": "https://localhost:8080/",
          "height": 338
        },
        "id": "t5oxruqUMPZz",
        "outputId": "c8eacab4-7cf5-48eb-d0cb-d045e86af6c6"
      },
      "source": [
        "plt.figure(figsize=(10, 5))\n",
        "idx = onp.argsort(y_train[:, 0])\n",
        "\n",
        "train_preds = model(train_dataset[0]).detach().cpu()\n",
        "mu, sigma = train_preds.split([1, 1], dim=-1)\n",
        "sigma = F.softplus(sigma)\n",
        "mu, sigma = mu[:, 0][idx], sigma[:, 0][idx]\n",
        "\n",
        "# mu = train_preds[:, 0][idx].numpy()\n",
        "# sigma = train_preds[:, 1][idx]\n",
        "# sigma = F.softplus(sigma).numpy()\n",
        "\n",
        "plt.plot(mu, label=\"Predictive mean\")\n",
        "plt.fill_between(onp.arange(len(mu)), mu + 2 * sigma, mu - 2 * sigma, alpha=0.5,\n",
        "                 label=\"2-Sigma region\")\n",
        "plt.plot(y_train[:, 0][idx], \"-r\", lw=3, label=\"Target Values\")\n",
        "plt.legend(fontsize=14)"
      ],
      "execution_count": null,
      "outputs": [
        {
          "output_type": "execute_result",
          "data": {
            "text/plain": [
              "<matplotlib.legend.Legend at 0x7fd44951cf10>"
            ]
          },
          "metadata": {},
          "execution_count": 7
        },
        {
          "output_type": "display_data",
          "data": {
            "image/png": "[encoded data removed]",
            "text/plain": [
              "<Figure size 720x360 with 1 Axes>"
            ]
          },
          "metadata": {
            "needs_background": "light"
          }
        }
      ]
    },
    {
      "cell_type": "markdown",
      "metadata": {
        "id": "dTDCZx4GNw3V"
      },
      "source": [
        "Now, let us produce the predictions on the test data that we will use in our submission. For UCI-Gap, we ask you to submit a CSV file with 256 rows and 1000 columns. Each row corresponds to a test datapoint $x_i$, and each colum corresponds to a sample from the predictive distribution $p(y \\vert x_i)$. In our case, the predictive distribution is Gaussian, so we can produce the samples as follows:"
      ]
    },
    {
      "cell_type": "code",
      "metadata": {
        "colab": {
          "base_uri": "https://localhost:8080/"
        },
        "id": "hoJKVP6kOJMA",
        "outputId": "985a8d65-6484-4d44-f50b-0b03faf3c08c"
      },
      "source": [
        "num_samples = 1000\n",
        "num_data = len(y_test)\n",
        "\n",
        "test_preds = model(test_dataset[0]).detach().cpu()\n",
        "mu, sigma = test_preds.split([1, 1], dim=-1)\n",
        "sigma = F.softplus(sigma)\n",
        "mu, sigma = mu[:, 0].numpy(), sigma[:, 0].numpy()\n",
        "\n",
        "eps = onp.random.randn(num_data, num_samples)\n",
        "samples = mu[:, None] + eps * sigma[:, None]\n",
        "samples.shape"
      ],
      "execution_count": null,
      "outputs": [
        {
          "output_type": "execute_result",
          "data": {
            "text/plain": [
              "(256, 1000)"
            ]
          },
          "metadata": {},
          "execution_count": 13
        }
      ]
    },
    {
      "cell_type": "markdown",
      "metadata": {
        "id": "z0CkbN0QPV2C"
      },
      "source": [
        "Let us save the samples to a CSV file."
      ]
    },
    {
      "cell_type": "code",
      "metadata": {
        "id": "QsTD1eOvPHT2"
      },
      "source": [
        "onp.savetxt(\"uci_samples.csv\", samples)"
      ],
      "execution_count": null,
      "outputs": []
    },
    {
      "cell_type": "markdown",
      "metadata": {
        "id": "45lFFnCZP31h"
      },
      "source": [
        "Now we can finally prepare the submission file!"
      ]
    },
    {
      "cell_type": "code",
      "metadata": {
        "colab": {
          "base_uri": "https://localhost:8080/",
          "height": 107
        },
        "id": "kH4iZl0vPd4b",
        "outputId": "be97d042-2186-44f1-f168-c2ff9910c061"
      },
      "source": [
        "!zip extended_submission.zip retinopathy_probs.csv cifar_probs.csv medmnist_probs.csv uci_samples.csv \n",
        "\n",
        "from google.colab import files\n",
        "files.download('extended_submission.zip') "
      ],
      "execution_count": null,
      "outputs": [
        {
          "output_type": "stream",
          "name": "stdout",
          "text": [
            "  adding: retinopathy_probs.csv (deflated 100%)\n",
            "  adding: cifar_probs.csv (deflated 57%)\n",
            "  adding: medmnist_probs.csv (deflated 57%)\n",
            "  adding: uci_samples.csv (deflated 60%)\n"
          ]
        },
        {
          "output_type": "display_data",
          "data": {
            "application/javascript": [
              "\n",
              "    async function download(id, filename, size) {\n",
              "      if (!google.colab.kernel.accessAllowed) {\n",
              "        return;\n",
              "      }\n",
              "      const div = document.createElement('div');\n",
              "      const label = document.createElement('label');\n",
              "      label.textContent = `Downloading \"${filename}\": `;\n",
              "      div.appendChild(label);\n",
              "      const progress = document.createElement('progress');\n",
              "      progress.max = size;\n",
              "      div.appendChild(progress);\n",
              "      document.body.appendChild(div);\n",
              "\n",
              "      const buffers = [];\n",
              "      let downloaded = 0;\n",
              "\n",
              "      const channel = await google.colab.kernel.comms.open(id);\n",
              "      // Send a message to notify the kernel that we're ready.\n",
              "      channel.send({})\n",
              "\n",
              "      for await (const message of channel.messages) {\n",
              "        // Send a message to notify the kernel that we're ready.\n",
              "        channel.send({})\n",
              "        if (message.buffers) {\n",
              "          for (const buffer of message.buffers) {\n",
              "            buffers.push(buffer);\n",
              "            downloaded += buffer.byteLength;\n",
              "            progress.value = downloaded;\n",
              "          }\n",
              "        }\n",
              "      }\n",
              "      const blob = new Blob(buffers, {type: 'application/binary'});\n",
              "      const a = document.createElement('a');\n",
              "      a.href = window.URL.createObjectURL(blob);\n",
              "      a.download = filename;\n",
              "      div.appendChild(a);\n",
              "      a.click();\n",
              "      div.remove();\n",
              "    }\n",
              "  "
            ],
            "text/plain": [
              "<IPython.core.display.Javascript object>"
            ]
          },
          "metadata": {}
        },
        {
          "output_type": "display_data",
          "data": {
            "application/javascript": [
              "download(\"download_40d4fb3f-8c18-4ff4-8542-57a24346335c\", \"extended_submission.zip\", 8186288)"
            ],
            "text/plain": [
              "<IPython.core.display.Javascript object>"
            ]
          },
          "metadata": {}
        }
      ]
    },
    {
      "cell_type": "code",
      "metadata": {
        "id": "LyEm7nOQ9-4i"
      },
      "source": [
        ""
      ],
      "execution_count": null,
      "outputs": []
    }
  ]
}